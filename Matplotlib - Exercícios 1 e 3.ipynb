{
 "cells": [
  {
   "cell_type": "markdown",
   "id": "14f58cdf",
   "metadata": {},
   "source": [
    "# Exercícios 1 e 3 (tarefa para retorno 1)"
   ]
  },
  {
   "cell_type": "markdown",
   "id": "307d4984",
   "metadata": {},
   "source": [
    "### Ex. 1: Analise e quantifique a relação da variável survived com a variável sex usando o conjunto de dados do titanic. Faça seus gráficos e calcule o chi-quadrado para quantificar a relação.\n",
    "\n",
    "\n",
    "**Explicação:** aqui iremos verificar se a sobrevivência tem relação direta com o sexo do passageiro, ou seja, a taxa de mulheres sobreviventes foi maior do que a de homens? \n",
    "\n",
    "É importante ter sempre em mente a hipótese que queremos testar, nesse caso pode ser por exemplo: \n",
    "\n",
    "    - h0 = a taxa de sobrevivência tem relação direta com o sexo do passageiro. (Hipótese nula)\n",
    "    - h1 = a taxa de sobrevivência não tem relação direta com o sexo do passageiro. (Hipótese alternativa)\n",
    "\n",
    "Aqui estamos estudando duas variáveis categóricas: survived = 0 ou 1 e sex = male ou female, por isso podemos usar o chi-quadrado.\n",
    "\n",
    "O chi-quadrado tem como princípio básico comparar proporções, ou seja, possíveis divergências entre as frequências observadas e esperadas para um certo evento.\n",
    "\n",
    "\n",
    "**Etapas básicas:**\n",
    "\n",
    "- Carregar os dados titanic.csv;\n",
    "- Analisar a tabela;\n",
    "- Estudar a relação entre as variáveis survived e sex;\n",
    "    - Criar diferentes gráficos\n",
    "    - Calcular chi-quadrado\n",
    "    \n",
    "\n",
    "Obs.: Todos os códigos são correspondentes aos códigos vistos em aula!"
   ]
  },
  {
   "cell_type": "markdown",
   "id": "66c1cc90",
   "metadata": {},
   "source": [
    "#### a) Carregar bibliotecas e os dados"
   ]
  },
  {
   "cell_type": "code",
   "execution_count": 1,
   "id": "ffb096eb",
   "metadata": {},
   "outputs": [],
   "source": [
    "# Bibliotecas essenciais\n",
    "\n",
    "import matplotlib.pyplot as plt\n",
    "import pandas as pd\n",
    "import numpy as np\n",
    "import seaborn as sns"
   ]
  },
  {
   "cell_type": "code",
   "execution_count": 2,
   "id": "89c601fe",
   "metadata": {},
   "outputs": [
    {
     "name": "stdout",
     "output_type": "stream",
     "text": [
      "(891, 12)\n"
     ]
    },
    {
     "data": {
      "text/html": [
       "<div>\n",
       "<style scoped>\n",
       "    .dataframe tbody tr th:only-of-type {\n",
       "        vertical-align: middle;\n",
       "    }\n",
       "\n",
       "    .dataframe tbody tr th {\n",
       "        vertical-align: top;\n",
       "    }\n",
       "\n",
       "    .dataframe thead th {\n",
       "        text-align: right;\n",
       "    }\n",
       "</style>\n",
       "<table border=\"1\" class=\"dataframe\">\n",
       "  <thead>\n",
       "    <tr style=\"text-align: right;\">\n",
       "      <th></th>\n",
       "      <th>PassengerId</th>\n",
       "      <th>Survived</th>\n",
       "      <th>Pclass</th>\n",
       "      <th>Name</th>\n",
       "      <th>Sex</th>\n",
       "      <th>Age</th>\n",
       "      <th>SibSp</th>\n",
       "      <th>Parch</th>\n",
       "      <th>Ticket</th>\n",
       "      <th>Fare</th>\n",
       "      <th>Cabin</th>\n",
       "      <th>Embarked</th>\n",
       "    </tr>\n",
       "  </thead>\n",
       "  <tbody>\n",
       "    <tr>\n",
       "      <th>0</th>\n",
       "      <td>1</td>\n",
       "      <td>0</td>\n",
       "      <td>3</td>\n",
       "      <td>Braund, Mr. Owen Harris</td>\n",
       "      <td>male</td>\n",
       "      <td>22.0</td>\n",
       "      <td>1</td>\n",
       "      <td>0</td>\n",
       "      <td>A/5 21171</td>\n",
       "      <td>7.2500</td>\n",
       "      <td>NaN</td>\n",
       "      <td>S</td>\n",
       "    </tr>\n",
       "    <tr>\n",
       "      <th>1</th>\n",
       "      <td>2</td>\n",
       "      <td>1</td>\n",
       "      <td>1</td>\n",
       "      <td>Cumings, Mrs. John Bradley (Florence Briggs Th...</td>\n",
       "      <td>female</td>\n",
       "      <td>38.0</td>\n",
       "      <td>1</td>\n",
       "      <td>0</td>\n",
       "      <td>PC 17599</td>\n",
       "      <td>71.2833</td>\n",
       "      <td>C85</td>\n",
       "      <td>C</td>\n",
       "    </tr>\n",
       "    <tr>\n",
       "      <th>2</th>\n",
       "      <td>3</td>\n",
       "      <td>1</td>\n",
       "      <td>3</td>\n",
       "      <td>Heikkinen, Miss. Laina</td>\n",
       "      <td>female</td>\n",
       "      <td>26.0</td>\n",
       "      <td>0</td>\n",
       "      <td>0</td>\n",
       "      <td>STON/O2. 3101282</td>\n",
       "      <td>7.9250</td>\n",
       "      <td>NaN</td>\n",
       "      <td>S</td>\n",
       "    </tr>\n",
       "    <tr>\n",
       "      <th>3</th>\n",
       "      <td>4</td>\n",
       "      <td>1</td>\n",
       "      <td>1</td>\n",
       "      <td>Futrelle, Mrs. Jacques Heath (Lily May Peel)</td>\n",
       "      <td>female</td>\n",
       "      <td>35.0</td>\n",
       "      <td>1</td>\n",
       "      <td>0</td>\n",
       "      <td>113803</td>\n",
       "      <td>53.1000</td>\n",
       "      <td>C123</td>\n",
       "      <td>S</td>\n",
       "    </tr>\n",
       "    <tr>\n",
       "      <th>4</th>\n",
       "      <td>5</td>\n",
       "      <td>0</td>\n",
       "      <td>3</td>\n",
       "      <td>Allen, Mr. William Henry</td>\n",
       "      <td>male</td>\n",
       "      <td>35.0</td>\n",
       "      <td>0</td>\n",
       "      <td>0</td>\n",
       "      <td>373450</td>\n",
       "      <td>8.0500</td>\n",
       "      <td>NaN</td>\n",
       "      <td>S</td>\n",
       "    </tr>\n",
       "  </tbody>\n",
       "</table>\n",
       "</div>"
      ],
      "text/plain": [
       "   PassengerId  Survived  Pclass  \\\n",
       "0            1         0       3   \n",
       "1            2         1       1   \n",
       "2            3         1       3   \n",
       "3            4         1       1   \n",
       "4            5         0       3   \n",
       "\n",
       "                                                Name     Sex   Age  SibSp  \\\n",
       "0                            Braund, Mr. Owen Harris    male  22.0      1   \n",
       "1  Cumings, Mrs. John Bradley (Florence Briggs Th...  female  38.0      1   \n",
       "2                             Heikkinen, Miss. Laina  female  26.0      0   \n",
       "3       Futrelle, Mrs. Jacques Heath (Lily May Peel)  female  35.0      1   \n",
       "4                           Allen, Mr. William Henry    male  35.0      0   \n",
       "\n",
       "   Parch            Ticket     Fare Cabin Embarked  \n",
       "0      0         A/5 21171   7.2500   NaN        S  \n",
       "1      0          PC 17599  71.2833   C85        C  \n",
       "2      0  STON/O2. 3101282   7.9250   NaN        S  \n",
       "3      0            113803  53.1000  C123        S  \n",
       "4      0            373450   8.0500   NaN        S  "
      ]
     },
     "execution_count": 2,
     "metadata": {},
     "output_type": "execute_result"
    }
   ],
   "source": [
    "df = pd.read_csv(\"titanic.csv\")\n",
    "\n",
    "print(df.shape)\n",
    "\n",
    "df.head()"
   ]
  },
  {
   "cell_type": "markdown",
   "id": "0815275b",
   "metadata": {},
   "source": [
    "No conjunto de dados titanic temos 891 linhas (observações) e 12 colunas (características)"
   ]
  },
  {
   "cell_type": "markdown",
   "id": "c0c3f698",
   "metadata": {},
   "source": [
    "#### b) Calcular a probabilidade de sobreviver sendo homem e sendo mulher"
   ]
  },
  {
   "cell_type": "code",
   "execution_count": 3,
   "id": "6ecc9d4a",
   "metadata": {},
   "outputs": [
    {
     "name": "stdout",
     "output_type": "stream",
     "text": [
      "Probabilidade de sobreviver sendo homem: 19.0\n",
      "Probabilidade de sobreviver sendo mulher: 74.0\n"
     ]
    }
   ],
   "source": [
    "prob_homem = df[(df.Survived==1) & ( df.Sex=='male')].shape[0] / df[df.Sex=='male'].shape[0]\n",
    "prob_mulher = df[(df.Survived==1) & ( df.Sex=='female')].shape[0] / df[df.Sex=='female'].shape[0]\n",
    "\n",
    "print(\"Probabilidade de sobreviver sendo homem:\", (round(prob_homem,2)*100)) \n",
    "print(\"Probabilidade de sobreviver sendo mulher:\", (round(prob_mulher,2)*100))"
   ]
  },
  {
   "cell_type": "code",
   "execution_count": 4,
   "id": "ec760f82",
   "metadata": {},
   "outputs": [
    {
     "name": "stdout",
     "output_type": "stream",
     "text": [
      "           0     1\n",
      "Sex               \n",
      "female  26.0  74.0\n",
      "male    81.0  19.0\n",
      "*******************\n",
      "          0    1\n",
      "Sex             \n",
      "female   81  233\n",
      "male    468  109\n"
     ]
    }
   ],
   "source": [
    "#Fazendo uma análise similar a anterior usando Group By\n",
    "#0- Morreram \n",
    "#1- Sobreviveram\n",
    "\n",
    "df_survived_by_sex = df.groupby('Sex').apply(lambda x: x.Survived.value_counts()).unstack()\n",
    "df_survived_by_sex_pct = df.groupby('Sex').apply(lambda x: x.Survived.value_counts()/x.shape[0]).unstack()\n",
    "print(round(df_survived_by_sex_pct*100))\n",
    "print('*******************')\n",
    "print(df_survived_by_sex)"
   ]
  },
  {
   "cell_type": "markdown",
   "id": "25e91a6c",
   "metadata": {},
   "source": [
    "**Qual sua conclusão a partir dos dados acima?**\n",
    "\n",
    "\n",
    "**Você vê algum indicativo de relação entre ter sobrevivido e o sexo?**"
   ]
  },
  {
   "cell_type": "markdown",
   "id": "8455c79c",
   "metadata": {},
   "source": [
    "### <font color='red'>A partir dos dados acima, é possível ver que o percentual de sobreviventes entre as mulheres foi amplamente maior com 74% contra 19% dos homens. Mesmo os homens estando em maior número, houveram 468 mortes entre eles e 81 mortes entre mulheres.</font>"
   ]
  },
  {
   "cell_type": "markdown",
   "id": "b5f09d9a",
   "metadata": {},
   "source": [
    "#### c) Construção de gráfico\n",
    "\n",
    "Estude o código abaixo!\n",
    "\n",
    "Todo o código foi demonstrado durante a aula!"
   ]
  },
  {
   "cell_type": "code",
   "execution_count": 5,
   "id": "592a57cf",
   "metadata": {},
   "outputs": [
    {
     "data": {
      "image/png": "[encoded data removed]",
      "text/plain": [
       "<Figure size 432x288 with 1 Axes>"
      ]
     },
     "metadata": {
      "needs_background": "light"
     },
     "output_type": "display_data"
    },
    {
     "data": {
      "image/png": "[encoded data removed]",
      "text/plain": [
       "<Figure size 432x288 with 1 Axes>"
      ]
     },
     "metadata": {
      "needs_background": "light"
     },
     "output_type": "display_data"
    }
   ],
   "source": [
    "df_sex = df.groupby('Sex').apply(lambda x: x.Survived.value_counts()).unstack()\n",
    "\n",
    "df_sex_prob = df.groupby('Sex').apply(lambda x: x.Survived.value_counts()/x.shape[0]).unstack()\n",
    "\n",
    "labels = list(df_sex.index) #labels do gráfico de barras\n",
    "\n",
    "morreram = df_sex[0].values #valores para construção do grafico de barras\n",
    "sobreviveram = df_sex[1].values #valores para construção do grafico de barras\n",
    "\n",
    "morreram_prob = df_sex_prob[0].values #valores para construção do grafico de barras\n",
    "sobreviveram_prob= df_sex_prob[1].values #valores para construção do grafico de barras\n",
    "\n",
    "\n",
    "x = np.arange(len(labels))  #localização dos labels\n",
    "width = 0.35  # largura das barras\n",
    "\n",
    "fig, ax = plt.subplots() #construção do frame, criando figura e eixos\n",
    "\n",
    "rects1 = ax.bar(x - width/2, morreram, width, label='Morreram') #valores para construção do gráfico de barras\n",
    "rects2 = ax.bar(x + width/2, sobreviveram, width, label='Sobreviveram')\n",
    "\n",
    "# Adicona título no gráfico, legenda nos eixos e no gráfico legenda\n",
    "ax.set_ylabel('Frequência') #legenda eixo y\n",
    "ax.set_title('Distribuição da Survived por Sex') #titulo\n",
    "ax.set_xticks(x) #seta a posição dos labels\n",
    "ax.set_xticklabels(labels) # legenda dos labels do eixo x\n",
    "ax.legend() #legenda do gráfico\n",
    "plt.show()\n",
    "\n",
    "fig, ax1 = plt.subplots()\n",
    "rects3 = ax1.bar(x - width/2, morreram_prob, width, label='Morreram')\n",
    "rects4 = ax1.bar(x + width/2, sobreviveram_prob, width, label='Sobreviveram')\n",
    "\n",
    "ax1.set_ylabel('%')\n",
    "ax1.set_title('Distribuição da Survived por Sex')\n",
    "ax1.set_xticks(x)\n",
    "ax1.set_xticklabels(labels)\n",
    "ax1.legend()\n",
    "plt.show()"
   ]
  },
  {
   "cell_type": "code",
   "execution_count": 6,
   "id": "689d1d7d",
   "metadata": {},
   "outputs": [
    {
     "data": {
      "text/plain": [
       "<AxesSubplot:xlabel='Sex', ylabel='Probability'>"
      ]
     },
     "execution_count": 6,
     "metadata": {},
     "output_type": "execute_result"
    },
    {
     "data": {
      "image/png": "[encoded data removed]",
      "text/plain": [
       "<Figure size 864x360 with 2 Axes>"
      ]
     },
     "metadata": {
      "needs_background": "light"
     },
     "output_type": "display_data"
    }
   ],
   "source": [
    "# Maneira alternativa usando a biblioteca Seaborn - NOVO!\n",
    "\n",
    "import seaborn as sns\n",
    "\n",
    "#seaborn é uma biblioteca muito útil para o dia a dia do cientista de dados.\n",
    "# ele possui diferentes tipos de gráficos para visualização estatística.\n",
    "\n",
    "# ref.: https://seaborn.pydata.org/\n",
    "\n",
    "fig, axs = plt.subplots(1,2, figsize=[12,5])\n",
    "\n",
    "sns.histplot(df, x='Sex', hue='Survived', stat='count', multiple='dodge', shrink=0.8, ax=axs[0])\n",
    "\n",
    "#stat='count' : conta a quantidade de cada sexo de acordo com a sobrevivencia\n",
    "\n",
    "sns.histplot(df, x='Sex', hue='Survived', stat='probability', multiple='dodge', shrink=0.8, ax=axs[1])\n",
    "\n",
    "#stat='probability' : calcula a probabilidade de cada sexo de acordo com a sobrevivencia"
   ]
  },
  {
   "cell_type": "markdown",
   "id": "c56646d9",
   "metadata": {},
   "source": [
    "**Qual conclusão você reforça com esses gráficos?**"
   ]
  },
  {
   "cell_type": "markdown",
   "id": "372ce952",
   "metadata": {},
   "source": [
    "### <font color='red'>Os gráficos reforçaram a interpretação dos cálculos feitos nos primeiros exercícios, onde é observada a ampla maioria de sobrevivência feminina entre os tripulantes do Titanic, tanto em percentual como em quantidade.</font>"
   ]
  },
  {
   "cell_type": "markdown",
   "id": "e13195f2",
   "metadata": {},
   "source": [
    "#### d) Calcular o chi-quadrado\n",
    "\n",
    "1) obter a distribuicao geral da variavel Survived;\n",
    "\n",
    "2) obter a tabela de frequencia para os dados observados:\n",
    "\n",
    "    - tabela de frequencia absoluta;\n",
    "    - tabela de frequencia relativa.\n",
    "\n",
    "3) adicionar o total na tabela de frequencia absoluta;\n",
    "\n",
    "4) obter a tabela de frequência esperada:\n",
    "\n",
    "    - caso as duas variáveis não tivesse relação.\n",
    "    \n",
    "5) cálculo do chi-quadrado:\n",
    "\n",
    "Observado menos o esperado - desvio: $o_i - e_i$\n",
    "    \n",
    "Desvio ao quadrado: $\\sigma^2 = (o_i - e_i)^2$\n",
    "\n",
    "Chi-quadrado: $X^2 = (o_i - e_i)^2 / e_i$\n",
    "   "
   ]
  },
  {
   "cell_type": "code",
   "execution_count": 7,
   "id": "550d27bd",
   "metadata": {},
   "outputs": [
    {
     "data": {
      "text/html": [
       "<div>\n",
       "<style scoped>\n",
       "    .dataframe tbody tr th:only-of-type {\n",
       "        vertical-align: middle;\n",
       "    }\n",
       "\n",
       "    .dataframe tbody tr th {\n",
       "        vertical-align: top;\n",
       "    }\n",
       "\n",
       "    .dataframe thead th {\n",
       "        text-align: right;\n",
       "    }\n",
       "</style>\n",
       "<table border=\"1\" class=\"dataframe\">\n",
       "  <thead>\n",
       "    <tr style=\"text-align: right;\">\n",
       "      <th></th>\n",
       "      <th>Survived</th>\n",
       "    </tr>\n",
       "  </thead>\n",
       "  <tbody>\n",
       "    <tr>\n",
       "      <th>0</th>\n",
       "      <td>0.62</td>\n",
       "    </tr>\n",
       "    <tr>\n",
       "      <th>1</th>\n",
       "      <td>0.38</td>\n",
       "    </tr>\n",
       "  </tbody>\n",
       "</table>\n",
       "</div>"
      ],
      "text/plain": [
       "   Survived\n",
       "0      0.62\n",
       "1      0.38"
      ]
     },
     "execution_count": 7,
     "metadata": {},
     "output_type": "execute_result"
    }
   ],
   "source": [
    "# 1) Distribuição geral da variável survived como já observado antes:\n",
    "\n",
    "dist_geral = pd.DataFrame(round(df.Survived.value_counts()/df.shape[0],2))\n",
    "\n",
    "dist_geral"
   ]
  },
  {
   "cell_type": "code",
   "execution_count": 8,
   "id": "4d45edde",
   "metadata": {},
   "outputs": [
    {
     "data": {
      "text/html": [
       "<div>\n",
       "<style scoped>\n",
       "    .dataframe tbody tr th:only-of-type {\n",
       "        vertical-align: middle;\n",
       "    }\n",
       "\n",
       "    .dataframe tbody tr th {\n",
       "        vertical-align: top;\n",
       "    }\n",
       "\n",
       "    .dataframe thead th {\n",
       "        text-align: right;\n",
       "    }\n",
       "</style>\n",
       "<table border=\"1\" class=\"dataframe\">\n",
       "  <thead>\n",
       "    <tr style=\"text-align: right;\">\n",
       "      <th></th>\n",
       "      <th>0</th>\n",
       "      <th>1</th>\n",
       "    </tr>\n",
       "    <tr>\n",
       "      <th>Sex</th>\n",
       "      <th></th>\n",
       "      <th></th>\n",
       "    </tr>\n",
       "  </thead>\n",
       "  <tbody>\n",
       "    <tr>\n",
       "      <th>female</th>\n",
       "      <td>0.26</td>\n",
       "      <td>0.74</td>\n",
       "    </tr>\n",
       "    <tr>\n",
       "      <th>male</th>\n",
       "      <td>0.81</td>\n",
       "      <td>0.19</td>\n",
       "    </tr>\n",
       "  </tbody>\n",
       "</table>\n",
       "</div>"
      ],
      "text/plain": [
       "           0     1\n",
       "Sex               \n",
       "female  0.26  0.74\n",
       "male    0.81  0.19"
      ]
     },
     "execution_count": 8,
     "metadata": {},
     "output_type": "execute_result"
    }
   ],
   "source": [
    "# 2) Tabelas de frequencia absoluta e relativa:\n",
    "\n",
    "df_sex = df.groupby('Sex').apply(lambda x: x.Survived.value_counts()).unstack()\n",
    "\n",
    "df_sex_prob = round(df.groupby('Sex').apply(lambda x: x.Survived.value_counts()/x.Survived.shape[0]).unstack(),2)\n",
    "\n",
    "df_sex_prob"
   ]
  },
  {
   "cell_type": "code",
   "execution_count": 9,
   "id": "b664a7b2",
   "metadata": {},
   "outputs": [
    {
     "data": {
      "text/html": [
       "<div>\n",
       "<style scoped>\n",
       "    .dataframe tbody tr th:only-of-type {\n",
       "        vertical-align: middle;\n",
       "    }\n",
       "\n",
       "    .dataframe tbody tr th {\n",
       "        vertical-align: top;\n",
       "    }\n",
       "\n",
       "    .dataframe thead th {\n",
       "        text-align: right;\n",
       "    }\n",
       "</style>\n",
       "<table border=\"1\" class=\"dataframe\">\n",
       "  <thead>\n",
       "    <tr style=\"text-align: right;\">\n",
       "      <th></th>\n",
       "      <th>0</th>\n",
       "      <th>1</th>\n",
       "      <th>total</th>\n",
       "    </tr>\n",
       "    <tr>\n",
       "      <th>Sex</th>\n",
       "      <th></th>\n",
       "      <th></th>\n",
       "      <th></th>\n",
       "    </tr>\n",
       "  </thead>\n",
       "  <tbody>\n",
       "    <tr>\n",
       "      <th>female</th>\n",
       "      <td>81</td>\n",
       "      <td>233</td>\n",
       "      <td>314</td>\n",
       "    </tr>\n",
       "    <tr>\n",
       "      <th>male</th>\n",
       "      <td>468</td>\n",
       "      <td>109</td>\n",
       "      <td>577</td>\n",
       "    </tr>\n",
       "  </tbody>\n",
       "</table>\n",
       "</div>"
      ],
      "text/plain": [
       "          0    1  total\n",
       "Sex                    \n",
       "female   81  233    314\n",
       "male    468  109    577"
      ]
     },
     "execution_count": 9,
     "metadata": {},
     "output_type": "execute_result"
    }
   ],
   "source": [
    "# 3) Adicionar o total para cada sexo na tabela de frequência absoluta:\n",
    "\n",
    "df_sex['total'] = df_sex[[0]].values + df_sex[[1]].values \n",
    "\n",
    "df_sex"
   ]
  },
  {
   "cell_type": "code",
   "execution_count": 10,
   "id": "fc8ec0c7",
   "metadata": {},
   "outputs": [
    {
     "data": {
      "text/html": [
       "<div>\n",
       "<style scoped>\n",
       "    .dataframe tbody tr th:only-of-type {\n",
       "        vertical-align: middle;\n",
       "    }\n",
       "\n",
       "    .dataframe tbody tr th {\n",
       "        vertical-align: top;\n",
       "    }\n",
       "\n",
       "    .dataframe thead th {\n",
       "        text-align: right;\n",
       "    }\n",
       "</style>\n",
       "<table border=\"1\" class=\"dataframe\">\n",
       "  <thead>\n",
       "    <tr style=\"text-align: right;\">\n",
       "      <th></th>\n",
       "      <th>Esperado para mortes</th>\n",
       "      <th>Esperado para sobreviventes</th>\n",
       "    </tr>\n",
       "  </thead>\n",
       "  <tbody>\n",
       "    <tr>\n",
       "      <th>female</th>\n",
       "      <td>194.68</td>\n",
       "      <td>119.32</td>\n",
       "    </tr>\n",
       "    <tr>\n",
       "      <th>male</th>\n",
       "      <td>357.74</td>\n",
       "      <td>219.26</td>\n",
       "    </tr>\n",
       "  </tbody>\n",
       "</table>\n",
       "</div>"
      ],
      "text/plain": [
       "        Esperado para mortes  Esperado para sobreviventes\n",
       "female                194.68                       119.32\n",
       "male                  357.74                       219.26"
      ]
     },
     "execution_count": 10,
     "metadata": {},
     "output_type": "execute_result"
    }
   ],
   "source": [
    "# 4) Tabela de frequência esperada:\n",
    "\n",
    "esp_0 = df_sex.total.values * dist_geral.iloc[0].values\n",
    "esp_1 = df_sex.total.values * dist_geral.iloc[1].values\n",
    "\n",
    "df_esp = pd.DataFrame(np.c_[esp_0,esp_1])\n",
    "\n",
    "df_esp.rename(columns = {0:\"Esperado para mortes\", 1:\"Esperado para sobreviventes\"}, inplace= True)\n",
    "df_esp.rename(index = {0:\"female\", 1:\"male\"}, inplace= True)\n",
    "\n",
    "df_esp"
   ]
  },
  {
   "cell_type": "code",
   "execution_count": 11,
   "id": "e9127ebd",
   "metadata": {},
   "outputs": [
    {
     "name": "stdout",
     "output_type": "stream",
     "text": [
      "[[-113.68  113.68]\n",
      " [ 110.26 -110.26]]\n",
      "\n",
      "O chi-quadrado de Pearson é de: 264.11838848422303\n"
     ]
    }
   ],
   "source": [
    "# 5) Cálculo do chi-quadrado\n",
    "\n",
    "# calculo dos desvios:\n",
    "\n",
    "desvios = (df_sex.iloc[:,:2].values - df_esp.values)\n",
    "\n",
    "print(desvios)\n",
    "\n",
    "# calculo dos desvios ao quadrado:\n",
    "\n",
    "desvios_ao_quadrado = desvios**2\n",
    "\n",
    "# calculo do chi-quadrado:\n",
    "\n",
    "chi_quad = sum(sum(desvios_ao_quadrado/df_esp.values)) \n",
    "\n",
    "print(\"\\nO chi-quadrado de Pearson é de:\", chi_quad)"
   ]
  },
  {
   "cell_type": "markdown",
   "id": "a1b44d46",
   "metadata": {},
   "source": [
    "**O que significa o valor do chi-quadrado de Pearson?**\n",
    "\n",
    "**Quais foram as suas conclusões?**"
   ]
  },
  {
   "cell_type": "markdown",
   "id": "1c31eeaf",
   "metadata": {},
   "source": [
    "### <font color='red'>O Qui Quadrado de Pearson quantifica a associação entre duas variáveis e o valor obtido demonstra o quão associadas elas estão. No caso acima, o valor de 264 demonstra que há uma associação considerável na taxa de sobrevivência quando comparamos ao sexo da pessoa</font>"
   ]
  },
  {
   "cell_type": "markdown",
   "id": "7082eff9",
   "metadata": {},
   "source": [
    "### Ex3: Use o dataframe df, carregado abaixo, onde cada observação corresponde a uma reclamação feita pelo consumidor, para responder as perguntas abaixo:\n",
    "\n",
    "\n",
    "1 - Qual o número de reclamações por Estado?\n",
    "\n",
    "    - Calcular a quantidade de reclamações de acordo com os estados.\n",
    "\n",
    "2 - Qual a quantidade de reclamações por sexo?\n",
    "\n",
    "    - Calcular a quantidade de reclamações de acordo com o sexo do consumidor.\n",
    "\n",
    "3 - O tempo de resposta tem alguma correlação com a nota do consumidor?\n",
    "\n",
    "    - Verificar a correlação entre o tempo de resposta e a nota atribuída pelo consumidor.\n",
    "    - Importante verificar qual o tipo das duas variáveis para determinar o método estatístico.\n",
    "    - Lembre-se que aqui você estará testando a seguinte hipótese: \n",
    "    \n",
    "        - h0 = o tempo de resposta tem relação direta com a nota do consumidor. (Hipótese nula)\n",
    "        - h1 = o tempo de resposta não tem relação direta com a nota do consumidor. (Hipótese alternativa)\n",
    "\n",
    "4 - Proporção de reclamações registradas e não respondidas.\n",
    "\n",
    "    - Calcular a proporção (porcentagem) do total de reclamações registradas que não foram respondidas.\n",
    "\n",
    "5 - Imagine que você é alguém responsável por monitorar a satisfação dos consumidores. Que outros tipos de pergunta e análises você entende que poderiam ser feitas? Acrescente mais duas perguntas feitas por você, bem como suas análises para responde-las. \n",
    "\n",
    "    - Proponha outras hipóteses e verifique-as (no mínimo duas).\n",
    "\n",
    "\n",
    "**Importante**: É interessante que as análises contenham gráficos! No dia-a-dia de um cientista, grande parte do  trabalho é analisar dados e gerar visualizações para apresentá-las.\n",
    "\n",
    "\n",
    "_fonte_ : https://dados.gov.br/dataset/reclamacoes-do-consumidor-gov-br1 (Nesse link estão os dicionário de dados, caso possua dúvidas sobre base)."
   ]
  },
  {
   "cell_type": "code",
   "execution_count": 12,
   "id": "0899a06b",
   "metadata": {
    "scrolled": true
   },
   "outputs": [
    {
     "name": "stdout",
     "output_type": "stream",
     "text": [
      "(43987, 38)\n"
     ]
    },
    {
     "data": {
      "text/html": [
       "<div>\n",
       "<style scoped>\n",
       "    .dataframe tbody tr th:only-of-type {\n",
       "        vertical-align: middle;\n",
       "    }\n",
       "\n",
       "    .dataframe tbody tr th {\n",
       "        vertical-align: top;\n",
       "    }\n",
       "\n",
       "    .dataframe thead th {\n",
       "        text-align: right;\n",
       "    }\n",
       "</style>\n",
       "<table border=\"1\" class=\"dataframe\">\n",
       "  <thead>\n",
       "    <tr style=\"text-align: right;\">\n",
       "      <th></th>\n",
       "      <th>Gestor</th>\n",
       "      <th>Canal de Origem</th>\n",
       "      <th>Região</th>\n",
       "      <th>UF</th>\n",
       "      <th>Cidade</th>\n",
       "      <th>Sexo</th>\n",
       "      <th>Faixa Etária</th>\n",
       "      <th>Ano Abertura</th>\n",
       "      <th>Mês Abertura</th>\n",
       "      <th>Data Abertura</th>\n",
       "      <th>...</th>\n",
       "      <th>Como Comprou Contratou</th>\n",
       "      <th>Procurou Empresa</th>\n",
       "      <th>Respondida</th>\n",
       "      <th>Situação</th>\n",
       "      <th>Avaliação Reclamação</th>\n",
       "      <th>Nota do Consumidor</th>\n",
       "      <th>Análise da Recusa</th>\n",
       "      <th>Edição de Conteúdo</th>\n",
       "      <th>Interação do Gestor</th>\n",
       "      <th>Total</th>\n",
       "    </tr>\n",
       "  </thead>\n",
       "  <tbody>\n",
       "    <tr>\n",
       "      <th>0</th>\n",
       "      <td>Secretaria Nacional do Consumidor</td>\n",
       "      <td>Não identificado</td>\n",
       "      <td>SE</td>\n",
       "      <td>RJ</td>\n",
       "      <td>Itaboraí</td>\n",
       "      <td>M</td>\n",
       "      <td>entre 31 a 40 anos</td>\n",
       "      <td>2014</td>\n",
       "      <td>6</td>\n",
       "      <td>27/06/2014</td>\n",
       "      <td>...</td>\n",
       "      <td>Não comprei / contratei</td>\n",
       "      <td>S</td>\n",
       "      <td>S</td>\n",
       "      <td>Finalizada não avaliada</td>\n",
       "      <td>Não Avaliada</td>\n",
       "      <td>NaN</td>\n",
       "      <td>NaN</td>\n",
       "      <td>N</td>\n",
       "      <td>N</td>\n",
       "      <td>1</td>\n",
       "    </tr>\n",
       "    <tr>\n",
       "      <th>1</th>\n",
       "      <td>Instituto Estadual de Proteção e Defesa do Con...</td>\n",
       "      <td>Não identificado</td>\n",
       "      <td>SE</td>\n",
       "      <td>ES</td>\n",
       "      <td>Serra</td>\n",
       "      <td>F</td>\n",
       "      <td>entre 31 a 40 anos</td>\n",
       "      <td>2014</td>\n",
       "      <td>6</td>\n",
       "      <td>11/06/2014</td>\n",
       "      <td>...</td>\n",
       "      <td>Internet</td>\n",
       "      <td>S</td>\n",
       "      <td>S</td>\n",
       "      <td>Finalizada avaliada</td>\n",
       "      <td>Não Resolvida</td>\n",
       "      <td>1.0</td>\n",
       "      <td>NaN</td>\n",
       "      <td>N</td>\n",
       "      <td>N</td>\n",
       "      <td>1</td>\n",
       "    </tr>\n",
       "    <tr>\n",
       "      <th>2</th>\n",
       "      <td>Secretaria Nacional do Consumidor</td>\n",
       "      <td>Não identificado</td>\n",
       "      <td>SE</td>\n",
       "      <td>RJ</td>\n",
       "      <td>Volta Redonda</td>\n",
       "      <td>M</td>\n",
       "      <td>entre 31 a 40 anos</td>\n",
       "      <td>2014</td>\n",
       "      <td>6</td>\n",
       "      <td>27/06/2014</td>\n",
       "      <td>...</td>\n",
       "      <td>Internet</td>\n",
       "      <td>S</td>\n",
       "      <td>S</td>\n",
       "      <td>Finalizada avaliada</td>\n",
       "      <td>Resolvida</td>\n",
       "      <td>5.0</td>\n",
       "      <td>NaN</td>\n",
       "      <td>N</td>\n",
       "      <td>N</td>\n",
       "      <td>1</td>\n",
       "    </tr>\n",
       "    <tr>\n",
       "      <th>3</th>\n",
       "      <td>Instituto de Promoção e Defesa do Cidadão e Co...</td>\n",
       "      <td>Não identificado</td>\n",
       "      <td>NE</td>\n",
       "      <td>MA</td>\n",
       "      <td>São Luís</td>\n",
       "      <td>F</td>\n",
       "      <td>entre 31 a 40 anos</td>\n",
       "      <td>2014</td>\n",
       "      <td>5</td>\n",
       "      <td>29/05/2014</td>\n",
       "      <td>...</td>\n",
       "      <td>Não comprei / contratei</td>\n",
       "      <td>S</td>\n",
       "      <td>S</td>\n",
       "      <td>Finalizada avaliada</td>\n",
       "      <td>Resolvida</td>\n",
       "      <td>5.0</td>\n",
       "      <td>NaN</td>\n",
       "      <td>N</td>\n",
       "      <td>N</td>\n",
       "      <td>1</td>\n",
       "    </tr>\n",
       "    <tr>\n",
       "      <th>4</th>\n",
       "      <td>Secretaria de Desenvolvimento Social e Direito...</td>\n",
       "      <td>Não identificado</td>\n",
       "      <td>NE</td>\n",
       "      <td>PE</td>\n",
       "      <td>Recife</td>\n",
       "      <td>M</td>\n",
       "      <td>entre 21 a 30 anos</td>\n",
       "      <td>2014</td>\n",
       "      <td>6</td>\n",
       "      <td>30/06/2014</td>\n",
       "      <td>...</td>\n",
       "      <td>Internet</td>\n",
       "      <td>S</td>\n",
       "      <td>S</td>\n",
       "      <td>Finalizada não avaliada</td>\n",
       "      <td>Não Avaliada</td>\n",
       "      <td>NaN</td>\n",
       "      <td>NaN</td>\n",
       "      <td>N</td>\n",
       "      <td>N</td>\n",
       "      <td>1</td>\n",
       "    </tr>\n",
       "  </tbody>\n",
       "</table>\n",
       "<p>5 rows × 38 columns</p>\n",
       "</div>"
      ],
      "text/plain": [
       "                                              Gestor   Canal de Origem Região  \\\n",
       "0                  Secretaria Nacional do Consumidor  Não identificado     SE   \n",
       "1  Instituto Estadual de Proteção e Defesa do Con...  Não identificado     SE   \n",
       "2                  Secretaria Nacional do Consumidor  Não identificado     SE   \n",
       "3  Instituto de Promoção e Defesa do Cidadão e Co...  Não identificado     NE   \n",
       "4  Secretaria de Desenvolvimento Social e Direito...  Não identificado     NE   \n",
       "\n",
       "   UF         Cidade Sexo        Faixa Etária  Ano Abertura  Mês Abertura  \\\n",
       "0  RJ       Itaboraí    M  entre 31 a 40 anos          2014             6   \n",
       "1  ES          Serra    F  entre 31 a 40 anos          2014             6   \n",
       "2  RJ  Volta Redonda    M  entre 31 a 40 anos          2014             6   \n",
       "3  MA       São Luís    F  entre 31 a 40 anos          2014             5   \n",
       "4  PE         Recife    M  entre 21 a 30 anos          2014             6   \n",
       "\n",
       "  Data Abertura  ...   Como Comprou Contratou Procurou Empresa Respondida  \\\n",
       "0    27/06/2014  ...  Não comprei / contratei                S          S   \n",
       "1    11/06/2014  ...                 Internet                S          S   \n",
       "2    27/06/2014  ...                 Internet                S          S   \n",
       "3    29/05/2014  ...  Não comprei / contratei                S          S   \n",
       "4    30/06/2014  ...                 Internet                S          S   \n",
       "\n",
       "                  Situação Avaliação Reclamação Nota do Consumidor  \\\n",
       "0  Finalizada não avaliada         Não Avaliada                NaN   \n",
       "1      Finalizada avaliada        Não Resolvida                1.0   \n",
       "2      Finalizada avaliada            Resolvida                5.0   \n",
       "3      Finalizada avaliada            Resolvida                5.0   \n",
       "4  Finalizada não avaliada         Não Avaliada                NaN   \n",
       "\n",
       "  Análise da Recusa Edição de Conteúdo Interação do Gestor Total  \n",
       "0               NaN                  N                   N     1  \n",
       "1               NaN                  N                   N     1  \n",
       "2               NaN                  N                   N     1  \n",
       "3               NaN                  N                   N     1  \n",
       "4               NaN                  N                   N     1  \n",
       "\n",
       "[5 rows x 38 columns]"
      ]
     },
     "execution_count": 12,
     "metadata": {},
     "output_type": "execute_result"
    }
   ],
   "source": [
    "import pandas as pd\n",
    "\n",
    "df = pd.read_csv(\"dadosgovbr---2014.csv\",sep = ';', encoding=\"latin-1\")\n",
    "\n",
    "print(df.shape)\n",
    "df.head(5)"
   ]
  },
  {
   "cell_type": "code",
   "execution_count": 13,
   "id": "212c9b5e",
   "metadata": {
    "scrolled": true
   },
   "outputs": [
    {
     "data": {
      "text/html": [
       "<div>\n",
       "<style scoped>\n",
       "    .dataframe tbody tr th:only-of-type {\n",
       "        vertical-align: middle;\n",
       "    }\n",
       "\n",
       "    .dataframe tbody tr th {\n",
       "        vertical-align: top;\n",
       "    }\n",
       "\n",
       "    .dataframe thead th {\n",
       "        text-align: right;\n",
       "    }\n",
       "</style>\n",
       "<table border=\"1\" class=\"dataframe\">\n",
       "  <thead>\n",
       "    <tr style=\"text-align: right;\">\n",
       "      <th></th>\n",
       "      <th>Ano Abertura</th>\n",
       "      <th>Mês Abertura</th>\n",
       "      <th>Prazo Analise Gestor</th>\n",
       "      <th>Tempo Resposta</th>\n",
       "      <th>Nota do Consumidor</th>\n",
       "      <th>Total</th>\n",
       "    </tr>\n",
       "  </thead>\n",
       "  <tbody>\n",
       "    <tr>\n",
       "      <th>count</th>\n",
       "      <td>43987.0</td>\n",
       "      <td>43987.000000</td>\n",
       "      <td>1953.000000</td>\n",
       "      <td>41961.000000</td>\n",
       "      <td>28627.000000</td>\n",
       "      <td>43987.0</td>\n",
       "    </tr>\n",
       "    <tr>\n",
       "      <th>mean</th>\n",
       "      <td>2014.0</td>\n",
       "      <td>9.550435</td>\n",
       "      <td>4.768049</td>\n",
       "      <td>6.667572</td>\n",
       "      <td>3.007021</td>\n",
       "      <td>1.0</td>\n",
       "    </tr>\n",
       "    <tr>\n",
       "      <th>std</th>\n",
       "      <td>0.0</td>\n",
       "      <td>1.898572</td>\n",
       "      <td>4.395177</td>\n",
       "      <td>3.066805</td>\n",
       "      <td>1.681700</td>\n",
       "      <td>0.0</td>\n",
       "    </tr>\n",
       "    <tr>\n",
       "      <th>min</th>\n",
       "      <td>2014.0</td>\n",
       "      <td>5.000000</td>\n",
       "      <td>0.000000</td>\n",
       "      <td>0.000000</td>\n",
       "      <td>1.000000</td>\n",
       "      <td>1.0</td>\n",
       "    </tr>\n",
       "    <tr>\n",
       "      <th>25%</th>\n",
       "      <td>2014.0</td>\n",
       "      <td>8.000000</td>\n",
       "      <td>1.000000</td>\n",
       "      <td>4.000000</td>\n",
       "      <td>1.000000</td>\n",
       "      <td>1.0</td>\n",
       "    </tr>\n",
       "    <tr>\n",
       "      <th>50%</th>\n",
       "      <td>2014.0</td>\n",
       "      <td>10.000000</td>\n",
       "      <td>4.000000</td>\n",
       "      <td>8.000000</td>\n",
       "      <td>3.000000</td>\n",
       "      <td>1.0</td>\n",
       "    </tr>\n",
       "    <tr>\n",
       "      <th>75%</th>\n",
       "      <td>2014.0</td>\n",
       "      <td>11.000000</td>\n",
       "      <td>8.000000</td>\n",
       "      <td>9.000000</td>\n",
       "      <td>5.000000</td>\n",
       "      <td>1.0</td>\n",
       "    </tr>\n",
       "    <tr>\n",
       "      <th>max</th>\n",
       "      <td>2014.0</td>\n",
       "      <td>12.000000</td>\n",
       "      <td>15.000000</td>\n",
       "      <td>13.000000</td>\n",
       "      <td>5.000000</td>\n",
       "      <td>1.0</td>\n",
       "    </tr>\n",
       "  </tbody>\n",
       "</table>\n",
       "</div>"
      ],
      "text/plain": [
       "       Ano Abertura  Mês Abertura  Prazo Analise Gestor  Tempo Resposta  \\\n",
       "count       43987.0  43987.000000           1953.000000    41961.000000   \n",
       "mean         2014.0      9.550435              4.768049        6.667572   \n",
       "std             0.0      1.898572              4.395177        3.066805   \n",
       "min          2014.0      5.000000              0.000000        0.000000   \n",
       "25%          2014.0      8.000000              1.000000        4.000000   \n",
       "50%          2014.0     10.000000              4.000000        8.000000   \n",
       "75%          2014.0     11.000000              8.000000        9.000000   \n",
       "max          2014.0     12.000000             15.000000       13.000000   \n",
       "\n",
       "       Nota do Consumidor    Total  \n",
       "count        28627.000000  43987.0  \n",
       "mean             3.007021      1.0  \n",
       "std              1.681700      0.0  \n",
       "min              1.000000      1.0  \n",
       "25%              1.000000      1.0  \n",
       "50%              3.000000      1.0  \n",
       "75%              5.000000      1.0  \n",
       "max              5.000000      1.0  "
      ]
     },
     "execution_count": 13,
     "metadata": {},
     "output_type": "execute_result"
    }
   ],
   "source": [
    "df.describe() #Tentando localizar algum outlier"
   ]
  },
  {
   "cell_type": "code",
   "execution_count": 13,
   "id": "8aa25d8b",
   "metadata": {},
   "outputs": [
    {
     "data": {
      "text/plain": [
       "SP    11882\n",
       "PR     6140\n",
       "RJ     4907\n",
       "MG     4186\n",
       "BA     2443\n",
       "RS     1941\n",
       "DF     1805\n",
       "PE     1626\n",
       "SC     1458\n",
       "MA     1082\n",
       "ES     1081\n",
       "CE     1068\n",
       "MT     1012\n",
       "GO      886\n",
       "MS      531\n",
       "AC      449\n",
       "PB      343\n",
       "AM      291\n",
       "PA      211\n",
       "RN      160\n",
       "RO      119\n",
       "AL      104\n",
       "SE       97\n",
       "PI       77\n",
       "TO       46\n",
       "RR       24\n",
       "AP       18\n",
       "Name: UF, dtype: int64"
      ]
     },
     "execution_count": 13,
     "metadata": {},
     "output_type": "execute_result"
    }
   ],
   "source": [
    "#1- Número de reclamações por estado\n",
    "\n",
    "#reclamacoes_estado = df.groupby('UF').apply(lambda x: x.UF.value_counts())\n",
    "\n",
    "reclamacoes_estado =df['UF'].value_counts()\n",
    "reclamacoes_estado"
   ]
  },
  {
   "cell_type": "code",
   "execution_count": 14,
   "id": "a1373b29",
   "metadata": {
    "scrolled": true
   },
   "outputs": [
    {
     "data": {
      "text/plain": [
       "Text(0, 0.5, 'Reclamações')"
      ]
     },
     "execution_count": 14,
     "metadata": {},
     "output_type": "execute_result"
    },
    {
     "data": {
      "image/png": "[encoded data removed]",
      "text/plain": [
       "<Figure size 1440x576 with 1 Axes>"
      ]
     },
     "metadata": {
      "needs_background": "light"
     },
     "output_type": "display_data"
    }
   ],
   "source": [
    "#Comprovação gráfica dos resultados\n",
    "\n",
    "fig, axs = plt.subplots(1, figsize=[20,8])\n",
    "\n",
    "chart_estado = sns.histplot(df, x='UF', stat='count', multiple='dodge', shrink=0.8)\n",
    "chart_estado.set_title('Reclamações por Estado',size=20)\n",
    "\n",
    "for p in chart_estado.patches:\n",
    "    chart_estado.annotate((p.get_height()), \n",
    "                   (p.get_x() + p.get_width() / 2., p.get_height()), \n",
    "                   ha = 'center', va = 'center', \n",
    "                   size=12,\n",
    "                   xytext = (0, 10), \n",
    "                   textcoords = 'offset points',\n",
    "                  )\n",
    "    \n",
    "plt.xlabel(\"Estado\", size=14)\n",
    "plt.ylabel(\"Reclamações\", size=14)"
   ]
  },
  {
   "cell_type": "code",
   "execution_count": 15,
   "id": "775e544b",
   "metadata": {},
   "outputs": [
    {
     "data": {
      "text/plain": [
       "M    27895\n",
       "F    16092\n",
       "Name: Sexo, dtype: int64"
      ]
     },
     "execution_count": 15,
     "metadata": {},
     "output_type": "execute_result"
    }
   ],
   "source": [
    "#2 - Qual a quantidade de reclamações por sexo?\n",
    "reclamacoes_por_Sexo =df['Sexo'].value_counts()\n",
    "reclamacoes_por_Sexo"
   ]
  },
  {
   "cell_type": "code",
   "execution_count": 16,
   "id": "ee253de9",
   "metadata": {},
   "outputs": [
    {
     "data": {
      "text/plain": [
       "Text(0, 0.5, 'Reclamações')"
      ]
     },
     "execution_count": 16,
     "metadata": {},
     "output_type": "execute_result"
    },
    {
     "data": {
      "image/png": "[encoded data removed]",
      "text/plain": [
       "<Figure size 360x576 with 1 Axes>"
      ]
     },
     "metadata": {
      "needs_background": "light"
     },
     "output_type": "display_data"
    }
   ],
   "source": [
    "fig, axs = plt.subplots(1, figsize=[5,8])\n",
    "\n",
    "chart_sexo = sns.histplot(df, x='Sexo', stat='count', multiple='dodge', shrink=0.5)\n",
    "chart_sexo.set_title('Reclamações por sexo',size=20)\n",
    "\n",
    "for p in chart_sexo.patches:\n",
    "    chart_sexo.annotate((p.get_height()), \n",
    "                   (p.get_x() + p.get_width() / 2., p.get_height()), \n",
    "                   ha = 'center', va = 'center', \n",
    "                   size=12,\n",
    "                   xytext = (0, 10), \n",
    "                   textcoords = 'offset points',\n",
    "                  )\n",
    "    \n",
    "plt.xlabel(\"Sexo\", size=14)\n",
    "plt.ylabel(\"Reclamações\", size=14)"
   ]
  },
  {
   "cell_type": "code",
   "execution_count": 17,
   "id": "7903bc1a",
   "metadata": {
    "scrolled": false
   },
   "outputs": [
    {
     "data": {
      "text/html": [
       "<div>\n",
       "<style scoped>\n",
       "    .dataframe tbody tr th:only-of-type {\n",
       "        vertical-align: middle;\n",
       "    }\n",
       "\n",
       "    .dataframe tbody tr th {\n",
       "        vertical-align: top;\n",
       "    }\n",
       "\n",
       "    .dataframe thead th {\n",
       "        text-align: right;\n",
       "    }\n",
       "</style>\n",
       "<table border=\"1\" class=\"dataframe\">\n",
       "  <thead>\n",
       "    <tr style=\"text-align: right;\">\n",
       "      <th></th>\n",
       "      <th>Gestor</th>\n",
       "      <th>Canal de Origem</th>\n",
       "      <th>Região</th>\n",
       "      <th>UF</th>\n",
       "      <th>Cidade</th>\n",
       "      <th>Sexo</th>\n",
       "      <th>Faixa Etária</th>\n",
       "      <th>Ano Abertura</th>\n",
       "      <th>Mês Abertura</th>\n",
       "      <th>Data Abertura</th>\n",
       "      <th>Hora Abertura</th>\n",
       "      <th>Data Resposta</th>\n",
       "      <th>Hora Resposta</th>\n",
       "      <th>Data Análise</th>\n",
       "      <th>Hora Análise</th>\n",
       "      <th>Data Recusa</th>\n",
       "      <th>Hora Recusa</th>\n",
       "      <th>Data Finalização</th>\n",
       "      <th>Hora Finalização</th>\n",
       "      <th>Prazo Resposta</th>\n",
       "      <th>Prazo Analise Gestor</th>\n",
       "      <th>Tempo Resposta</th>\n",
       "      <th>Nome Fantasia</th>\n",
       "      <th>Segmento de Mercado</th>\n",
       "      <th>Área</th>\n",
       "      <th>Assunto</th>\n",
       "      <th>Grupo Problema</th>\n",
       "      <th>Problema</th>\n",
       "      <th>Como Comprou Contratou</th>\n",
       "      <th>Procurou Empresa</th>\n",
       "      <th>Respondida</th>\n",
       "      <th>Situação</th>\n",
       "      <th>Avaliação Reclamação</th>\n",
       "      <th>Nota do Consumidor</th>\n",
       "      <th>Análise da Recusa</th>\n",
       "      <th>Edição de Conteúdo</th>\n",
       "      <th>Interação do Gestor</th>\n",
       "      <th>Total</th>\n",
       "    </tr>\n",
       "  </thead>\n",
       "  <tbody>\n",
       "    <tr>\n",
       "      <th>0</th>\n",
       "      <td>Secretaria Nacional do Consumidor</td>\n",
       "      <td>Não identificado</td>\n",
       "      <td>SE</td>\n",
       "      <td>RJ</td>\n",
       "      <td>Itaboraí</td>\n",
       "      <td>M</td>\n",
       "      <td>entre 31 a 40 anos</td>\n",
       "      <td>2014</td>\n",
       "      <td>6</td>\n",
       "      <td>27/06/2014</td>\n",
       "      <td>19:05:11</td>\n",
       "      <td>02/07/2014</td>\n",
       "      <td>19:30:10</td>\n",
       "      <td>NaN</td>\n",
       "      <td>NaN</td>\n",
       "      <td>NaN</td>\n",
       "      <td>NaN</td>\n",
       "      <td>22/07/2014</td>\n",
       "      <td>23:48:04</td>\n",
       "      <td>07/07/2014</td>\n",
       "      <td>NaN</td>\n",
       "      <td>5.0</td>\n",
       "      <td>Hipercard</td>\n",
       "      <td>Bancos, Financeiras e Administradoras de Cartão</td>\n",
       "      <td>Serviços Financeiros</td>\n",
       "      <td>Cartão de Crédito / Cartão de Débito / Cartão ...</td>\n",
       "      <td>Cobrança / Contestação</td>\n",
       "      <td>Cobrança de compra/saque não reconhecido</td>\n",
       "      <td>Não comprei / contratei</td>\n",
       "      <td>S</td>\n",
       "      <td>S</td>\n",
       "      <td>Finalizada não avaliada</td>\n",
       "      <td>Não Avaliada</td>\n",
       "      <td>NaN</td>\n",
       "      <td>NaN</td>\n",
       "      <td>N</td>\n",
       "      <td>N</td>\n",
       "      <td>1</td>\n",
       "    </tr>\n",
       "    <tr>\n",
       "      <th>1</th>\n",
       "      <td>Instituto Estadual de Proteção e Defesa do Con...</td>\n",
       "      <td>Não identificado</td>\n",
       "      <td>SE</td>\n",
       "      <td>ES</td>\n",
       "      <td>Serra</td>\n",
       "      <td>F</td>\n",
       "      <td>entre 31 a 40 anos</td>\n",
       "      <td>2014</td>\n",
       "      <td>6</td>\n",
       "      <td>11/06/2014</td>\n",
       "      <td>13:35:22</td>\n",
       "      <td>17/06/2014</td>\n",
       "      <td>08:44:35</td>\n",
       "      <td>NaN</td>\n",
       "      <td>NaN</td>\n",
       "      <td>NaN</td>\n",
       "      <td>NaN</td>\n",
       "      <td>17/06/2014</td>\n",
       "      <td>09:24:10</td>\n",
       "      <td>21/06/2014</td>\n",
       "      <td>NaN</td>\n",
       "      <td>6.0</td>\n",
       "      <td>Magazineluiza.com</td>\n",
       "      <td>Comércio Eletrônico</td>\n",
       "      <td>Produtos de Telefonia e Informática</td>\n",
       "      <td>Aparelho celular</td>\n",
       "      <td>Entrega do Produto</td>\n",
       "      <td>Não entrega / demora na entrega do produto</td>\n",
       "      <td>Internet</td>\n",
       "      <td>S</td>\n",
       "      <td>S</td>\n",
       "      <td>Finalizada avaliada</td>\n",
       "      <td>Não Resolvida</td>\n",
       "      <td>1.0</td>\n",
       "      <td>NaN</td>\n",
       "      <td>N</td>\n",
       "      <td>N</td>\n",
       "      <td>1</td>\n",
       "    </tr>\n",
       "  </tbody>\n",
       "</table>\n",
       "</div>"
      ],
      "text/plain": [
       "                                              Gestor   Canal de Origem Região  \\\n",
       "0                  Secretaria Nacional do Consumidor  Não identificado     SE   \n",
       "1  Instituto Estadual de Proteção e Defesa do Con...  Não identificado     SE   \n",
       "\n",
       "   UF    Cidade Sexo        Faixa Etária  Ano Abertura  Mês Abertura  \\\n",
       "0  RJ  Itaboraí    M  entre 31 a 40 anos          2014             6   \n",
       "1  ES     Serra    F  entre 31 a 40 anos          2014             6   \n",
       "\n",
       "  Data Abertura Hora Abertura Data Resposta Hora Resposta Data Análise  \\\n",
       "0    27/06/2014      19:05:11    02/07/2014      19:30:10          NaN   \n",
       "1    11/06/2014      13:35:22    17/06/2014      08:44:35          NaN   \n",
       "\n",
       "  Hora Análise Data Recusa Hora Recusa Data Finalização Hora Finalização  \\\n",
       "0          NaN         NaN         NaN       22/07/2014         23:48:04   \n",
       "1          NaN         NaN         NaN       17/06/2014         09:24:10   \n",
       "\n",
       "  Prazo Resposta  Prazo Analise Gestor  Tempo Resposta      Nome Fantasia  \\\n",
       "0     07/07/2014                   NaN             5.0          Hipercard   \n",
       "1     21/06/2014                   NaN             6.0  Magazineluiza.com   \n",
       "\n",
       "                               Segmento de Mercado  \\\n",
       "0  Bancos, Financeiras e Administradoras de Cartão   \n",
       "1                              Comércio Eletrônico   \n",
       "\n",
       "                                  Área  \\\n",
       "0                 Serviços Financeiros   \n",
       "1  Produtos de Telefonia e Informática   \n",
       "\n",
       "                                             Assunto          Grupo Problema  \\\n",
       "0  Cartão de Crédito / Cartão de Débito / Cartão ...  Cobrança / Contestação   \n",
       "1                                   Aparelho celular      Entrega do Produto   \n",
       "\n",
       "                                     Problema   Como Comprou Contratou  \\\n",
       "0    Cobrança de compra/saque não reconhecido  Não comprei / contratei   \n",
       "1  Não entrega / demora na entrega do produto                 Internet   \n",
       "\n",
       "  Procurou Empresa Respondida                 Situação Avaliação Reclamação  \\\n",
       "0                S          S  Finalizada não avaliada         Não Avaliada   \n",
       "1                S          S      Finalizada avaliada        Não Resolvida   \n",
       "\n",
       "   Nota do Consumidor Análise da Recusa Edição de Conteúdo  \\\n",
       "0                 NaN               NaN                  N   \n",
       "1                 1.0               NaN                  N   \n",
       "\n",
       "  Interação do Gestor  Total  \n",
       "0                   N      1  \n",
       "1                   N      1  "
      ]
     },
     "execution_count": 17,
     "metadata": {},
     "output_type": "execute_result"
    }
   ],
   "source": [
    "#3- O tempo de resposta tem alguma correlação com a nota do consumidor?\n",
    "\n",
    "pd.set_option('max_columns', None)\n",
    "\n",
    "df.head(2)"
   ]
  },
  {
   "cell_type": "code",
   "execution_count": 18,
   "id": "3cd73064",
   "metadata": {},
   "outputs": [
    {
     "data": {
      "text/html": [
       "<div>\n",
       "<style scoped>\n",
       "    .dataframe tbody tr th:only-of-type {\n",
       "        vertical-align: middle;\n",
       "    }\n",
       "\n",
       "    .dataframe tbody tr th {\n",
       "        vertical-align: top;\n",
       "    }\n",
       "\n",
       "    .dataframe thead th {\n",
       "        text-align: right;\n",
       "    }\n",
       "</style>\n",
       "<table border=\"1\" class=\"dataframe\">\n",
       "  <thead>\n",
       "    <tr style=\"text-align: right;\">\n",
       "      <th></th>\n",
       "      <th>Tempo Resposta</th>\n",
       "      <th>Nota do Consumidor</th>\n",
       "    </tr>\n",
       "  </thead>\n",
       "  <tbody>\n",
       "    <tr>\n",
       "      <th>0</th>\n",
       "      <td>5.0</td>\n",
       "      <td>NaN</td>\n",
       "    </tr>\n",
       "    <tr>\n",
       "      <th>1</th>\n",
       "      <td>6.0</td>\n",
       "      <td>1.0</td>\n",
       "    </tr>\n",
       "    <tr>\n",
       "      <th>2</th>\n",
       "      <td>5.0</td>\n",
       "      <td>5.0</td>\n",
       "    </tr>\n",
       "    <tr>\n",
       "      <th>3</th>\n",
       "      <td>0.0</td>\n",
       "      <td>5.0</td>\n",
       "    </tr>\n",
       "    <tr>\n",
       "      <th>4</th>\n",
       "      <td>1.0</td>\n",
       "      <td>NaN</td>\n",
       "    </tr>\n",
       "  </tbody>\n",
       "</table>\n",
       "</div>"
      ],
      "text/plain": [
       "   Tempo Resposta  Nota do Consumidor\n",
       "0             5.0                 NaN\n",
       "1             6.0                 1.0\n",
       "2             5.0                 5.0\n",
       "3             0.0                 5.0\n",
       "4             1.0                 NaN"
      ]
     },
     "execution_count": 18,
     "metadata": {},
     "output_type": "execute_result"
    }
   ],
   "source": [
    "# As varáveis Tempo de resposta e Nota do Consumidor são ambas quantitativas. Adotaremos a análise de correlação linear\n",
    "df[['Tempo Resposta','Nota do Consumidor']].head(5)"
   ]
  },
  {
   "cell_type": "code",
   "execution_count": 19,
   "id": "7eacc904",
   "metadata": {},
   "outputs": [
    {
     "data": {
      "image/png": "[encoded data removed]",
      "text/plain": [
       "<Figure size 720x360 with 1 Axes>"
      ]
     },
     "metadata": {
      "needs_background": "light"
     },
     "output_type": "display_data"
    },
    {
     "data": {
      "image/png": "[encoded data removed]",
      "text/plain": [
       "<Figure size 720x360 with 1 Axes>"
      ]
     },
     "metadata": {
      "needs_background": "light"
     },
     "output_type": "display_data"
    }
   ],
   "source": [
    "plt.figure(figsize=[10,5])\n",
    "plt.subplots_adjust(wspace= 0.1)\n",
    "plt.suptitle('Verificação de correlação entre Nota do consumidor e Tempo de resposta')\n",
    "\n",
    "\n",
    "plt.scatter(df['Tempo Resposta'],df['Nota do Consumidor'])\n",
    "plt.xlabel('Tempo Resposta')\n",
    "plt.ylabel('Nota do Consumidor')\n",
    "\n",
    "df.boxplot('Nota do Consumidor', by = ['Tempo Resposta'], figsize= [10,5])\n",
    "plt.ylabel('Fare')\n",
    "plt.grid(False)"
   ]
  },
  {
   "cell_type": "markdown",
   "id": "fb1580ab",
   "metadata": {},
   "source": [
    "### <font color='red'>Olhando graficamente, não há de forma clara uma correlação entre a nota e o tempo de resposta. Houveram notas altas para tempos mais longos e notas baixas para tempos menores. Vamos seguir com a análise:</font>"
   ]
  },
  {
   "cell_type": "code",
   "execution_count": 20,
   "id": "ffb733ee",
   "metadata": {},
   "outputs": [
    {
     "data": {
      "text/html": [
       "<div>\n",
       "<style scoped>\n",
       "    .dataframe tbody tr th:only-of-type {\n",
       "        vertical-align: middle;\n",
       "    }\n",
       "\n",
       "    .dataframe tbody tr th {\n",
       "        vertical-align: top;\n",
       "    }\n",
       "\n",
       "    .dataframe thead th {\n",
       "        text-align: right;\n",
       "    }\n",
       "</style>\n",
       "<table border=\"1\" class=\"dataframe\">\n",
       "  <thead>\n",
       "    <tr style=\"text-align: right;\">\n",
       "      <th></th>\n",
       "      <th>Tempo médio de resposta (Dias)</th>\n",
       "    </tr>\n",
       "    <tr>\n",
       "      <th>Nota do Consumidor</th>\n",
       "      <th></th>\n",
       "    </tr>\n",
       "  </thead>\n",
       "  <tbody>\n",
       "    <tr>\n",
       "      <th>1.0</th>\n",
       "      <td>7.0</td>\n",
       "    </tr>\n",
       "    <tr>\n",
       "      <th>2.0</th>\n",
       "      <td>7.0</td>\n",
       "    </tr>\n",
       "    <tr>\n",
       "      <th>3.0</th>\n",
       "      <td>7.0</td>\n",
       "    </tr>\n",
       "    <tr>\n",
       "      <th>4.0</th>\n",
       "      <td>6.0</td>\n",
       "    </tr>\n",
       "    <tr>\n",
       "      <th>5.0</th>\n",
       "      <td>6.0</td>\n",
       "    </tr>\n",
       "  </tbody>\n",
       "</table>\n",
       "</div>"
      ],
      "text/plain": [
       "                    Tempo médio de resposta (Dias)\n",
       "Nota do Consumidor                                \n",
       "1.0                                            7.0\n",
       "2.0                                            7.0\n",
       "3.0                                            7.0\n",
       "4.0                                            6.0\n",
       "5.0                                            6.0"
      ]
     },
     "execution_count": 20,
     "metadata": {},
     "output_type": "execute_result"
    }
   ],
   "source": [
    "# A seguir, vamos calcular a possibilidade de se obter uma nota alta de acordo com o tempo médio de resposta\n",
    "\n",
    "dist_geral_notas = pd.DataFrame(round(df.groupby('Nota do Consumidor').apply(lambda x: x['Tempo Resposta'].mean())))\n",
    "\n",
    "dist_geral_notas.rename(columns = {0:\"Tempo médio de resposta (Dias)\"}, inplace= True)\n",
    "dist_geral_notas"
   ]
  },
  {
   "cell_type": "code",
   "execution_count": 21,
   "id": "7bf79656",
   "metadata": {},
   "outputs": [
    {
     "data": {
      "text/html": [
       "<div>\n",
       "<style scoped>\n",
       "    .dataframe tbody tr th:only-of-type {\n",
       "        vertical-align: middle;\n",
       "    }\n",
       "\n",
       "    .dataframe tbody tr th {\n",
       "        vertical-align: top;\n",
       "    }\n",
       "\n",
       "    .dataframe thead th {\n",
       "        text-align: right;\n",
       "    }\n",
       "</style>\n",
       "<table border=\"1\" class=\"dataframe\">\n",
       "  <thead>\n",
       "    <tr style=\"text-align: right;\">\n",
       "      <th></th>\n",
       "      <th>0.0</th>\n",
       "      <th>1.0</th>\n",
       "      <th>2.0</th>\n",
       "      <th>3.0</th>\n",
       "      <th>4.0</th>\n",
       "      <th>5.0</th>\n",
       "      <th>6.0</th>\n",
       "      <th>7.0</th>\n",
       "      <th>8.0</th>\n",
       "      <th>9.0</th>\n",
       "      <th>10.0</th>\n",
       "      <th>11.0</th>\n",
       "      <th>12.0</th>\n",
       "      <th>13.0</th>\n",
       "    </tr>\n",
       "    <tr>\n",
       "      <th>Nota do Consumidor</th>\n",
       "      <th></th>\n",
       "      <th></th>\n",
       "      <th></th>\n",
       "      <th></th>\n",
       "      <th></th>\n",
       "      <th></th>\n",
       "      <th></th>\n",
       "      <th></th>\n",
       "      <th></th>\n",
       "      <th></th>\n",
       "      <th></th>\n",
       "      <th></th>\n",
       "      <th></th>\n",
       "      <th></th>\n",
       "    </tr>\n",
       "  </thead>\n",
       "  <tbody>\n",
       "    <tr>\n",
       "      <th>1.0</th>\n",
       "      <td>150.0</td>\n",
       "      <td>461.0</td>\n",
       "      <td>467.0</td>\n",
       "      <td>487.0</td>\n",
       "      <td>495.0</td>\n",
       "      <td>548.0</td>\n",
       "      <td>575.0</td>\n",
       "      <td>819.0</td>\n",
       "      <td>1298.0</td>\n",
       "      <td>1469.0</td>\n",
       "      <td>3050.0</td>\n",
       "      <td>3.0</td>\n",
       "      <td>1.0</td>\n",
       "      <td>2.0</td>\n",
       "    </tr>\n",
       "    <tr>\n",
       "      <th>2.0</th>\n",
       "      <td>27.0</td>\n",
       "      <td>87.0</td>\n",
       "      <td>113.0</td>\n",
       "      <td>96.0</td>\n",
       "      <td>92.0</td>\n",
       "      <td>125.0</td>\n",
       "      <td>119.0</td>\n",
       "      <td>166.0</td>\n",
       "      <td>256.0</td>\n",
       "      <td>244.0</td>\n",
       "      <td>549.0</td>\n",
       "      <td>NaN</td>\n",
       "      <td>NaN</td>\n",
       "      <td>NaN</td>\n",
       "    </tr>\n",
       "    <tr>\n",
       "      <th>3.0</th>\n",
       "      <td>131.0</td>\n",
       "      <td>241.0</td>\n",
       "      <td>249.0</td>\n",
       "      <td>218.0</td>\n",
       "      <td>236.0</td>\n",
       "      <td>226.0</td>\n",
       "      <td>250.0</td>\n",
       "      <td>346.0</td>\n",
       "      <td>464.0</td>\n",
       "      <td>527.0</td>\n",
       "      <td>850.0</td>\n",
       "      <td>NaN</td>\n",
       "      <td>NaN</td>\n",
       "      <td>NaN</td>\n",
       "    </tr>\n",
       "    <tr>\n",
       "      <th>4.0</th>\n",
       "      <td>106.0</td>\n",
       "      <td>352.0</td>\n",
       "      <td>311.0</td>\n",
       "      <td>301.0</td>\n",
       "      <td>323.0</td>\n",
       "      <td>328.0</td>\n",
       "      <td>336.0</td>\n",
       "      <td>430.0</td>\n",
       "      <td>487.0</td>\n",
       "      <td>490.0</td>\n",
       "      <td>837.0</td>\n",
       "      <td>2.0</td>\n",
       "      <td>NaN</td>\n",
       "      <td>NaN</td>\n",
       "    </tr>\n",
       "    <tr>\n",
       "      <th>5.0</th>\n",
       "      <td>351.0</td>\n",
       "      <td>773.0</td>\n",
       "      <td>727.0</td>\n",
       "      <td>667.0</td>\n",
       "      <td>651.0</td>\n",
       "      <td>654.0</td>\n",
       "      <td>720.0</td>\n",
       "      <td>858.0</td>\n",
       "      <td>990.0</td>\n",
       "      <td>887.0</td>\n",
       "      <td>1494.0</td>\n",
       "      <td>NaN</td>\n",
       "      <td>NaN</td>\n",
       "      <td>NaN</td>\n",
       "    </tr>\n",
       "  </tbody>\n",
       "</table>\n",
       "</div>"
      ],
      "text/plain": [
       "                     0.0    1.0    2.0    3.0    4.0    5.0    6.0    7.0   \\\n",
       "Nota do Consumidor                                                           \n",
       "1.0                 150.0  461.0  467.0  487.0  495.0  548.0  575.0  819.0   \n",
       "2.0                  27.0   87.0  113.0   96.0   92.0  125.0  119.0  166.0   \n",
       "3.0                 131.0  241.0  249.0  218.0  236.0  226.0  250.0  346.0   \n",
       "4.0                 106.0  352.0  311.0  301.0  323.0  328.0  336.0  430.0   \n",
       "5.0                 351.0  773.0  727.0  667.0  651.0  654.0  720.0  858.0   \n",
       "\n",
       "                      8.0     9.0     10.0  11.0  12.0  13.0  \n",
       "Nota do Consumidor                                            \n",
       "1.0                 1298.0  1469.0  3050.0   3.0   1.0   2.0  \n",
       "2.0                  256.0   244.0   549.0   NaN   NaN   NaN  \n",
       "3.0                  464.0   527.0   850.0   NaN   NaN   NaN  \n",
       "4.0                  487.0   490.0   837.0   2.0   NaN   NaN  \n",
       "5.0                  990.0   887.0  1494.0   NaN   NaN   NaN  "
      ]
     },
     "execution_count": 21,
     "metadata": {},
     "output_type": "execute_result"
    }
   ],
   "source": [
    "df_notas = df.groupby('Nota do Consumidor').apply(lambda x: x['Tempo Resposta'].value_counts()).unstack()\n",
    "\n",
    "df_notas"
   ]
  },
  {
   "cell_type": "markdown",
   "id": "24d560f5",
   "metadata": {},
   "source": [
    "#### <font color='red'>Nas tabelas acima, vemos que a média de tempo de espera foi muito próxima para todas as notas e que há uma grande quantidade de notas altas até 10 dias de espera e uma quantidade também alta de notas baixas com períodos de resposta bem curtos</font>"
   ]
  },
  {
   "cell_type": "code",
   "execution_count": 22,
   "id": "8cd62246",
   "metadata": {},
   "outputs": [
    {
     "name": "stdout",
     "output_type": "stream",
     "text": [
      "A correlacao linear entre a nota do consumidor e o tempo de resposta foi de -0.19\n"
     ]
    }
   ],
   "source": [
    "correlacao = df['Nota do Consumidor'].corr(df['Tempo Resposta'])\n",
    "print('A correlacao linear entre a nota do consumidor e o tempo de resposta foi de',round(correlacao,2))"
   ]
  },
  {
   "attachments": {
    "image.png": {
     "image/png": "[encoded data removed]"
    }
   },
   "cell_type": "markdown",
   "id": "015a49fd",
   "metadata": {},
   "source": [
    "![image.png](attachment:image.png)"
   ]
  },
  {
   "cell_type": "markdown",
   "id": "e801870e",
   "metadata": {},
   "source": [
    "#### <font color='red'>Como pudemos ver no resultado acima, a correlação de -0,19 entre as variáveis Tempo de resposta e nota do consumidor indica uma correlação fraca por estar próxima de zero, encerrando assim nossa análise para este caso</font>"
   ]
  },
  {
   "cell_type": "code",
   "execution_count": 338,
   "id": "80d4a563",
   "metadata": {},
   "outputs": [],
   "source": [
    "#4- Proporção de reclamações registradas e não respondidas."
   ]
  },
  {
   "cell_type": "code",
   "execution_count": 339,
   "id": "5d1e6198",
   "metadata": {},
   "outputs": [
    {
     "data": {
      "text/plain": [
       "array(['S', 'N'], dtype=object)"
      ]
     },
     "execution_count": 339,
     "metadata": {},
     "output_type": "execute_result"
    }
   ],
   "source": [
    "df['Respondida'].unique()"
   ]
  },
  {
   "cell_type": "code",
   "execution_count": 340,
   "id": "6491b32d",
   "metadata": {},
   "outputs": [
    {
     "name": "stdout",
     "output_type": "stream",
     "text": [
      "A probabilidade de uma reclamação ser aberta e não ser respondida é de 4.61 %\n"
     ]
    }
   ],
   "source": [
    "prob_homem  =round(df[(df['Respondida'])=='N'].shape[0] / df.shape[0]*100,2)\n",
    "print('A probabilidade de uma reclamação ser aberta e não ser respondida é de',prob_homem,'%')"
   ]
  },
  {
   "cell_type": "code",
   "execution_count": 341,
   "id": "2bae9a4c",
   "metadata": {},
   "outputs": [],
   "source": [
    "#5 - Imagine que você é alguém responsável por monitorar a satisfação dos consumidores. Que outros tipos de pergunta e análises você entende que poderiam ser feitas? Acrescente mais duas perguntas feitas por você, bem como suas análises para responde-las.\n",
    "\n",
    "#- Proponha outras hipóteses e verifique-as (no mínimo duas).\n",
    "#Importante: É interessante que as análises contenham gráficos! No dia-a-dia de um cientista, grande parte do trabalho é analisar dados e gerar visualizações para apresentá-las."
   ]
  },
  {
   "cell_type": "code",
   "execution_count": 638,
   "id": "51075014",
   "metadata": {},
   "outputs": [
    {
     "data": {
      "text/html": [
       "<div>\n",
       "<style scoped>\n",
       "    .dataframe tbody tr th:only-of-type {\n",
       "        vertical-align: middle;\n",
       "    }\n",
       "\n",
       "    .dataframe tbody tr th {\n",
       "        vertical-align: top;\n",
       "    }\n",
       "\n",
       "    .dataframe thead th {\n",
       "        text-align: right;\n",
       "    }\n",
       "</style>\n",
       "<table border=\"1\" class=\"dataframe\">\n",
       "  <thead>\n",
       "    <tr style=\"text-align: right;\">\n",
       "      <th></th>\n",
       "      <th>Gestor</th>\n",
       "      <th>Canal de Origem</th>\n",
       "      <th>Região</th>\n",
       "      <th>UF</th>\n",
       "      <th>Cidade</th>\n",
       "      <th>Sexo</th>\n",
       "      <th>Faixa Etária</th>\n",
       "      <th>Ano Abertura</th>\n",
       "      <th>Mês Abertura</th>\n",
       "      <th>Data Abertura</th>\n",
       "      <th>Hora Abertura</th>\n",
       "      <th>Data Resposta</th>\n",
       "      <th>Hora Resposta</th>\n",
       "      <th>Data Análise</th>\n",
       "      <th>Hora Análise</th>\n",
       "      <th>Data Recusa</th>\n",
       "      <th>Hora Recusa</th>\n",
       "      <th>Data Finalização</th>\n",
       "      <th>Hora Finalização</th>\n",
       "      <th>Prazo Resposta</th>\n",
       "      <th>Prazo Analise Gestor</th>\n",
       "      <th>Tempo Resposta</th>\n",
       "      <th>Nome Fantasia</th>\n",
       "      <th>Segmento de Mercado</th>\n",
       "      <th>Área</th>\n",
       "      <th>Assunto</th>\n",
       "      <th>Grupo Problema</th>\n",
       "      <th>Problema</th>\n",
       "      <th>Como Comprou Contratou</th>\n",
       "      <th>Procurou Empresa</th>\n",
       "      <th>Respondida</th>\n",
       "      <th>Situação</th>\n",
       "      <th>Avaliação Reclamação</th>\n",
       "      <th>Nota do Consumidor</th>\n",
       "      <th>Análise da Recusa</th>\n",
       "      <th>Edição de Conteúdo</th>\n",
       "      <th>Interação do Gestor</th>\n",
       "      <th>Total</th>\n",
       "    </tr>\n",
       "  </thead>\n",
       "  <tbody>\n",
       "    <tr>\n",
       "      <th>0</th>\n",
       "      <td>Secretaria Nacional do Consumidor</td>\n",
       "      <td>Não identificado</td>\n",
       "      <td>SE</td>\n",
       "      <td>RJ</td>\n",
       "      <td>Itaboraí</td>\n",
       "      <td>M</td>\n",
       "      <td>entre 31 a 40 anos</td>\n",
       "      <td>2014</td>\n",
       "      <td>6</td>\n",
       "      <td>27/06/2014</td>\n",
       "      <td>19:05:11</td>\n",
       "      <td>02/07/2014</td>\n",
       "      <td>19:30:10</td>\n",
       "      <td>NaN</td>\n",
       "      <td>NaN</td>\n",
       "      <td>NaN</td>\n",
       "      <td>NaN</td>\n",
       "      <td>22/07/2014</td>\n",
       "      <td>23:48:04</td>\n",
       "      <td>07/07/2014</td>\n",
       "      <td>NaN</td>\n",
       "      <td>5.0</td>\n",
       "      <td>Hipercard</td>\n",
       "      <td>Bancos, Financeiras e Administradoras de Cartão</td>\n",
       "      <td>Serviços Financeiros</td>\n",
       "      <td>Cartão de Crédito / Cartão de Débito / Cartão ...</td>\n",
       "      <td>Cobrança / Contestação</td>\n",
       "      <td>Cobrança de compra/saque não reconhecido</td>\n",
       "      <td>Não comprei / contratei</td>\n",
       "      <td>S</td>\n",
       "      <td>S</td>\n",
       "      <td>Finalizada não avaliada</td>\n",
       "      <td>Não Avaliada</td>\n",
       "      <td>NaN</td>\n",
       "      <td>NaN</td>\n",
       "      <td>N</td>\n",
       "      <td>N</td>\n",
       "      <td>1</td>\n",
       "    </tr>\n",
       "    <tr>\n",
       "      <th>1</th>\n",
       "      <td>Instituto Estadual de Proteção e Defesa do Con...</td>\n",
       "      <td>Não identificado</td>\n",
       "      <td>SE</td>\n",
       "      <td>ES</td>\n",
       "      <td>Serra</td>\n",
       "      <td>F</td>\n",
       "      <td>entre 31 a 40 anos</td>\n",
       "      <td>2014</td>\n",
       "      <td>6</td>\n",
       "      <td>11/06/2014</td>\n",
       "      <td>13:35:22</td>\n",
       "      <td>17/06/2014</td>\n",
       "      <td>08:44:35</td>\n",
       "      <td>NaN</td>\n",
       "      <td>NaN</td>\n",
       "      <td>NaN</td>\n",
       "      <td>NaN</td>\n",
       "      <td>17/06/2014</td>\n",
       "      <td>09:24:10</td>\n",
       "      <td>21/06/2014</td>\n",
       "      <td>NaN</td>\n",
       "      <td>6.0</td>\n",
       "      <td>Magazineluiza.com</td>\n",
       "      <td>Comércio Eletrônico</td>\n",
       "      <td>Produtos de Telefonia e Informática</td>\n",
       "      <td>Aparelho celular</td>\n",
       "      <td>Entrega do Produto</td>\n",
       "      <td>Não entrega / demora na entrega do produto</td>\n",
       "      <td>Internet</td>\n",
       "      <td>S</td>\n",
       "      <td>S</td>\n",
       "      <td>Finalizada avaliada</td>\n",
       "      <td>Não Resolvida</td>\n",
       "      <td>1.0</td>\n",
       "      <td>NaN</td>\n",
       "      <td>N</td>\n",
       "      <td>N</td>\n",
       "      <td>1</td>\n",
       "    </tr>\n",
       "    <tr>\n",
       "      <th>2</th>\n",
       "      <td>Secretaria Nacional do Consumidor</td>\n",
       "      <td>Não identificado</td>\n",
       "      <td>SE</td>\n",
       "      <td>RJ</td>\n",
       "      <td>Volta Redonda</td>\n",
       "      <td>M</td>\n",
       "      <td>entre 31 a 40 anos</td>\n",
       "      <td>2014</td>\n",
       "      <td>6</td>\n",
       "      <td>27/06/2014</td>\n",
       "      <td>19:23:36</td>\n",
       "      <td>02/07/2014</td>\n",
       "      <td>19:46:56</td>\n",
       "      <td>NaN</td>\n",
       "      <td>NaN</td>\n",
       "      <td>NaN</td>\n",
       "      <td>NaN</td>\n",
       "      <td>03/07/2014</td>\n",
       "      <td>23:55:22</td>\n",
       "      <td>07/07/2014</td>\n",
       "      <td>NaN</td>\n",
       "      <td>5.0</td>\n",
       "      <td>Banco Santander Cartões</td>\n",
       "      <td>Bancos, Financeiras e Administradoras de Cartão</td>\n",
       "      <td>Serviços Financeiros</td>\n",
       "      <td>Cartão de Crédito / Cartão de Débito / Cartão ...</td>\n",
       "      <td>Cobrança / Contestação</td>\n",
       "      <td>Dificuldade / atraso na devolução de valores p...</td>\n",
       "      <td>Internet</td>\n",
       "      <td>S</td>\n",
       "      <td>S</td>\n",
       "      <td>Finalizada avaliada</td>\n",
       "      <td>Resolvida</td>\n",
       "      <td>5.0</td>\n",
       "      <td>NaN</td>\n",
       "      <td>N</td>\n",
       "      <td>N</td>\n",
       "      <td>1</td>\n",
       "    </tr>\n",
       "  </tbody>\n",
       "</table>\n",
       "</div>"
      ],
      "text/plain": [
       "                                              Gestor   Canal de Origem Região  \\\n",
       "0                  Secretaria Nacional do Consumidor  Não identificado     SE   \n",
       "1  Instituto Estadual de Proteção e Defesa do Con...  Não identificado     SE   \n",
       "2                  Secretaria Nacional do Consumidor  Não identificado     SE   \n",
       "\n",
       "   UF         Cidade Sexo        Faixa Etária  Ano Abertura  Mês Abertura  \\\n",
       "0  RJ       Itaboraí    M  entre 31 a 40 anos          2014             6   \n",
       "1  ES          Serra    F  entre 31 a 40 anos          2014             6   \n",
       "2  RJ  Volta Redonda    M  entre 31 a 40 anos          2014             6   \n",
       "\n",
       "  Data Abertura Hora Abertura Data Resposta Hora Resposta Data Análise  \\\n",
       "0    27/06/2014      19:05:11    02/07/2014      19:30:10          NaN   \n",
       "1    11/06/2014      13:35:22    17/06/2014      08:44:35          NaN   \n",
       "2    27/06/2014      19:23:36    02/07/2014      19:46:56          NaN   \n",
       "\n",
       "  Hora Análise Data Recusa Hora Recusa Data Finalização Hora Finalização  \\\n",
       "0          NaN         NaN         NaN       22/07/2014         23:48:04   \n",
       "1          NaN         NaN         NaN       17/06/2014         09:24:10   \n",
       "2          NaN         NaN         NaN       03/07/2014         23:55:22   \n",
       "\n",
       "  Prazo Resposta  Prazo Analise Gestor  Tempo Resposta  \\\n",
       "0     07/07/2014                   NaN             5.0   \n",
       "1     21/06/2014                   NaN             6.0   \n",
       "2     07/07/2014                   NaN             5.0   \n",
       "\n",
       "             Nome Fantasia                              Segmento de Mercado  \\\n",
       "0                Hipercard  Bancos, Financeiras e Administradoras de Cartão   \n",
       "1        Magazineluiza.com                              Comércio Eletrônico   \n",
       "2  Banco Santander Cartões  Bancos, Financeiras e Administradoras de Cartão   \n",
       "\n",
       "                                  Área  \\\n",
       "0                 Serviços Financeiros   \n",
       "1  Produtos de Telefonia e Informática   \n",
       "2                 Serviços Financeiros   \n",
       "\n",
       "                                             Assunto          Grupo Problema  \\\n",
       "0  Cartão de Crédito / Cartão de Débito / Cartão ...  Cobrança / Contestação   \n",
       "1                                   Aparelho celular      Entrega do Produto   \n",
       "2  Cartão de Crédito / Cartão de Débito / Cartão ...  Cobrança / Contestação   \n",
       "\n",
       "                                            Problema   Como Comprou Contratou  \\\n",
       "0           Cobrança de compra/saque não reconhecido  Não comprei / contratei   \n",
       "1         Não entrega / demora na entrega do produto                 Internet   \n",
       "2  Dificuldade / atraso na devolução de valores p...                 Internet   \n",
       "\n",
       "  Procurou Empresa Respondida                 Situação Avaliação Reclamação  \\\n",
       "0                S          S  Finalizada não avaliada         Não Avaliada   \n",
       "1                S          S      Finalizada avaliada        Não Resolvida   \n",
       "2                S          S      Finalizada avaliada            Resolvida   \n",
       "\n",
       "   Nota do Consumidor Análise da Recusa Edição de Conteúdo  \\\n",
       "0                 NaN               NaN                  N   \n",
       "1                 1.0               NaN                  N   \n",
       "2                 5.0               NaN                  N   \n",
       "\n",
       "  Interação do Gestor  Total  \n",
       "0                   N      1  \n",
       "1                   N      1  \n",
       "2                   N      1  "
      ]
     },
     "execution_count": 638,
     "metadata": {},
     "output_type": "execute_result"
    }
   ],
   "source": [
    "pd.set_option('max_columns', None)\n",
    "\n",
    "df.head(3)"
   ]
  },
  {
   "cell_type": "markdown",
   "id": "8253e312",
   "metadata": {},
   "source": [
    "#### <font color='red'>Para início da análise, comecei a investigar a faixa etária de quem faz as reclamações</font>"
   ]
  },
  {
   "cell_type": "code",
   "execution_count": 640,
   "id": "83bf0620",
   "metadata": {},
   "outputs": [
    {
     "data": {
      "text/plain": [
       "entre 31 a 40 anos    16741\n",
       "entre 21 a 30 anos     9154\n",
       "entre 41 a 50 anos     8364\n",
       "entre 51 a 60 anos     5542\n",
       "entre 61 a 70 anos     2973\n",
       "mais de 70 anos        1199\n",
       "até 20 anos              14\n",
       "Name: Faixa Etária, dtype: int64"
      ]
     },
     "execution_count": 640,
     "metadata": {},
     "output_type": "execute_result"
    }
   ],
   "source": [
    "reclamacoes_faixa_etaria = df['Faixa Etária'].value_counts()\n",
    "reclamacoes_faixa_etaria"
   ]
  },
  {
   "cell_type": "markdown",
   "id": "5c8f59d3",
   "metadata": {},
   "source": [
    "#### <font color='red'>A primeira análise feita foi saber em qual faixa etária se concentra o maior número de reclamações</font>"
   ]
  },
  {
   "cell_type": "code",
   "execution_count": 641,
   "id": "f7a961aa",
   "metadata": {
    "scrolled": true
   },
   "outputs": [
    {
     "data": {
      "image/png": "[encoded data removed]",
      "text/plain": [
       "<Figure size 1080x360 with 1 Axes>"
      ]
     },
     "metadata": {
      "needs_background": "light"
     },
     "output_type": "display_data"
    }
   ],
   "source": [
    "plt.figure(figsize=[15,5])\n",
    "labels = list(df['Faixa Etária'].unique())\n",
    "x_pos = np.arange(len(labels))\n",
    "reclamacoes_faixa_etaria = df['Faixa Etária'].value_counts()\n",
    "                \n",
    "\n",
    "plt.bar(x_pos, reclamacoes_faixa_etaria, width=0.8, align='center', alpha=1, color='blue')\n",
    "plt.xticks(x_pos, labels)\n",
    "plt.ylabel('Quantidade',size=14,weight='bold')\n",
    "plt.xlabel('Faixa etária (anos)',size=14,weight='bold')\n",
    "plt.title('Quantidades de reclamações por faixa etária',size=16,weight='bold')\n",
    "\n",
    "for i in range(len(x_pos)):\n",
    "        plt.text(i, reclamacoes_faixa_etaria[i], reclamacoes_faixa_etaria[i], ha = 'center',size=12)\n",
    "        \n",
    "plt.show()\n"
   ]
  },
  {
   "cell_type": "markdown",
   "id": "e543b98c",
   "metadata": {},
   "source": [
    "#### <font color='red'>Em seguida optei por construir um Dataframe listando as empresas com maior número de reclamações para verificar a eficácia delas em resolvê-las. O intuito dessa análise é proporcionar ao cliente um insigh importante antes de comprar algo da empresa, visto que se precisar de um atendimento pós-venda, pode se frustrar.</font>"
   ]
  },
  {
   "cell_type": "code",
   "execution_count": 427,
   "id": "0105b26d",
   "metadata": {},
   "outputs": [
    {
     "data": {
      "text/html": [
       "<div>\n",
       "<style scoped>\n",
       "    .dataframe tbody tr th:only-of-type {\n",
       "        vertical-align: middle;\n",
       "    }\n",
       "\n",
       "    .dataframe tbody tr th {\n",
       "        vertical-align: top;\n",
       "    }\n",
       "\n",
       "    .dataframe thead th {\n",
       "        text-align: right;\n",
       "    }\n",
       "</style>\n",
       "<table border=\"1\" class=\"dataframe\">\n",
       "  <thead>\n",
       "    <tr style=\"text-align: right;\">\n",
       "      <th></th>\n",
       "      <th>Reclamações recebidas</th>\n",
       "      <th>Respondidas</th>\n",
       "      <th>Não respondidas</th>\n",
       "      <th>Resolvidas</th>\n",
       "      <th>Percentual de solução (%)</th>\n",
       "      <th>Avaliação média do consumidor</th>\n",
       "    </tr>\n",
       "  </thead>\n",
       "  <tbody>\n",
       "    <tr>\n",
       "      <th>Oi Fixo</th>\n",
       "      <td>5549</td>\n",
       "      <td>5495</td>\n",
       "      <td>54</td>\n",
       "      <td>1985</td>\n",
       "      <td>35.77</td>\n",
       "      <td>2.71</td>\n",
       "    </tr>\n",
       "    <tr>\n",
       "      <th>Vivo - Telefônica (GVT)</th>\n",
       "      <td>5403</td>\n",
       "      <td>5341</td>\n",
       "      <td>62</td>\n",
       "      <td>2741</td>\n",
       "      <td>50.73</td>\n",
       "      <td>3.21</td>\n",
       "    </tr>\n",
       "    <tr>\n",
       "      <th>Tim</th>\n",
       "      <td>3883</td>\n",
       "      <td>3841</td>\n",
       "      <td>42</td>\n",
       "      <td>1491</td>\n",
       "      <td>38.4</td>\n",
       "      <td>2.82</td>\n",
       "    </tr>\n",
       "    <tr>\n",
       "      <th>Claro Celular</th>\n",
       "      <td>2493</td>\n",
       "      <td>2426</td>\n",
       "      <td>67</td>\n",
       "      <td>1346</td>\n",
       "      <td>53.99</td>\n",
       "      <td>3.80</td>\n",
       "    </tr>\n",
       "    <tr>\n",
       "      <th>SKY</th>\n",
       "      <td>2098</td>\n",
       "      <td>2081</td>\n",
       "      <td>17</td>\n",
       "      <td>974</td>\n",
       "      <td>46.43</td>\n",
       "      <td>2.92</td>\n",
       "    </tr>\n",
       "  </tbody>\n",
       "</table>\n",
       "</div>"
      ],
      "text/plain": [
       "                         Reclamações recebidas  Respondidas  Não respondidas  \\\n",
       "Oi Fixo                                   5549         5495               54   \n",
       "Vivo - Telefônica (GVT)                   5403         5341               62   \n",
       "Tim                                       3883         3841               42   \n",
       "Claro Celular                             2493         2426               67   \n",
       "SKY                                       2098         2081               17   \n",
       "\n",
       "                         Resolvidas  Percentual de solução (%)  \\\n",
       "Oi Fixo                        1985                      35.77   \n",
       "Vivo - Telefônica (GVT)        2741                      50.73   \n",
       "Tim                            1491                       38.4   \n",
       "Claro Celular                  1346                      53.99   \n",
       "SKY                             974                      46.43   \n",
       "\n",
       "                         Avaliação média do consumidor  \n",
       "Oi Fixo                                           2.71  \n",
       "Vivo - Telefônica (GVT)                           3.21  \n",
       "Tim                                               2.82  \n",
       "Claro Celular                                     3.80  \n",
       "SKY                                               2.92  "
      ]
     },
     "execution_count": 427,
     "metadata": {},
     "output_type": "execute_result"
    }
   ],
   "source": [
    "top_reclamacoes = pd.DataFrame(df['Nome Fantasia'].value_counts())\n",
    "top_reclamacoes['Respondidas'] = df[df.Respondida == 'S']['Nome Fantasia'].value_counts().astype(\"Int64\")\n",
    "top_reclamacoes['Não respondidas'] = top_reclamacoes['Nome Fantasia'] - top_reclamacoes['Respondidas']\n",
    "top_reclamacoes['Resolvidas'] = df[(df['Avaliação Reclamação']) == 'Resolvida']['Nome Fantasia'].value_counts().astype(\"Int64\")\n",
    "top_reclamacoes['Percentual de solução (%)'] = round((top_reclamacoes['Resolvidas'] / top_reclamacoes['Nome Fantasia'])*100,2)\n",
    "top_reclamacoes['Avaliação média do consumidor'] = round(df.groupby('Nome Fantasia').apply(lambda x: x['Nota do Consumidor'].mean()),2)\n",
    "\n",
    "top_reclamacoes.rename(columns = {'Nome Fantasia':\"Reclamações recebidas\"}, inplace= True)\n",
    "top_reclamacoes.head()"
   ]
  },
  {
   "cell_type": "code",
   "execution_count": 645,
   "id": "a7e79607",
   "metadata": {},
   "outputs": [
    {
     "data": {
      "image/png": "[encoded data removed]",
      "text/plain": [
       "<Figure size 1080x720 with 1 Axes>"
      ]
     },
     "metadata": {
      "needs_background": "light"
     },
     "output_type": "display_data"
    }
   ],
   "source": [
    "top_10 = top_reclamacoes.head(10)\n",
    "empresas = list(top_10.index)\n",
    "\n",
    "fig, ax = plt.subplots(figsize=[15,10])\n",
    "\n",
    "# Plotando o total de reclamações\n",
    "sns.set_color_codes(\"pastel\")\n",
    "chart = sns.barplot(y=empresas, x='Reclamações recebidas', data=top_10, label='Empresas com maior número de reclamações', color=\"r\" )\n",
    "\n",
    "# Plotando o total de reclamações resolvidas\n",
    "sns.set_color_codes(\"muted\")\n",
    "chart = sns.barplot(y=empresas, x='Resolvidas', data=top_10, label=\"Reclamações resolvidas\", color=\"b\")\n",
    "\n",
    "# Legenda\n",
    "ax.legend(ncol=1, loc=\"lower right\", frameon=True, fontsize=12)\n",
    "\n",
    "plt.xlabel('Reclamações recebidas', size=14, weight='bold')\n",
    "plt.ylabel('Empresas', size=14, weight='bold')\n",
    "plt.title('Análise da taxa de resolução de reclamações das 10 empresas mais listadas',size=14, weight='bold')\n",
    "\n",
    "for container in ax.containers:\n",
    "    ax.bar_label(container)\n",
    "\n",
    "sns.despine(left=True, bottom=True)\n",
    "\n",
    "plt.show()"
   ]
  },
  {
   "cell_type": "markdown",
   "id": "8cec6d57",
   "metadata": {},
   "source": []
  }
 ],
 "metadata": {
  "kernelspec": {
   "display_name": "Python 3 (ipykernel)",
   "language": "python",
   "name": "python3"
  },
  "language_info": {
   "codemirror_mode": {
    "name": "ipython",
    "version": 3
   },
   "file_extension": ".py",
   "mimetype": "text/x-python",
   "name": "python",
   "nbconvert_exporter": "python",
   "pygments_lexer": "ipython3",
   "version": "3.9.7"
  }
 },
 "nbformat": 4,
 "nbformat_minor": 5
}

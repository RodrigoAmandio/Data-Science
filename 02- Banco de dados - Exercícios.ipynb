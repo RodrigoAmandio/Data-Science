{
 "cells": [
  {
   "cell_type": "code",
   "execution_count": 1,
   "id": "4d29f85e",
   "metadata": {},
   "outputs": [],
   "source": [
    "import sqlite3"
   ]
  },
  {
   "cell_type": "code",
   "execution_count": 2,
   "id": "371cc58f",
   "metadata": {},
   "outputs": [
    {
     "name": "stdout",
     "output_type": "stream",
     "text": [
      "<sqlite3.Connection object at 0x000001F6DFDE7990>\n"
     ]
    }
   ],
   "source": [
    "conn = sqlite3.connect(\"exercicios_modulo4.db\") \n",
    "\n",
    "print(conn)"
   ]
  },
  {
   "cell_type": "code",
   "execution_count": 3,
   "id": "22234b16",
   "metadata": {},
   "outputs": [],
   "source": [
    "cursor = conn.cursor() "
   ]
  },
  {
   "cell_type": "markdown",
   "id": "4d7a1ed3",
   "metadata": {},
   "source": [
    "### Exercício 1"
   ]
  },
  {
   "cell_type": "code",
   "execution_count": 4,
   "id": "873a0592",
   "metadata": {},
   "outputs": [
    {
     "data": {
      "text/plain": [
       "<sqlite3.Cursor at 0x1f6dfe26c70>"
      ]
     },
     "execution_count": 4,
     "metadata": {},
     "output_type": "execute_result"
    }
   ],
   "source": [
    "cursor.execute(\"CREATE TABLE dados_cadastrais (id integer, nome text, sobrenome text, data_nasci date, endereco text)\")"
   ]
  },
  {
   "cell_type": "code",
   "execution_count": 19,
   "id": "3730de2e",
   "metadata": {},
   "outputs": [
    {
     "data": {
      "text/plain": [
       "<sqlite3.Cursor at 0x1f6dfe26c70>"
      ]
     },
     "execution_count": 19,
     "metadata": {},
     "output_type": "execute_result"
    }
   ],
   "source": [
    "cursor.execute(\"CREATE TABLE dados_profissionais (id integer, graduacao text, cargo text, salario decimal, tempo_casa integer)\")"
   ]
  },
  {
   "cell_type": "code",
   "execution_count": 7,
   "id": "356057e2",
   "metadata": {},
   "outputs": [],
   "source": [
    "cursor.execute(\"INSERT INTO dados_cadastrais VALUES(1, 'Maria', 'Silva', 'Rua 1 - SP',11111211313)\") \n",
    "cursor.execute(\"INSERT INTO dados_cadastrais VALUES(2, 'João', 'Silva', 'Rua 2 - SP',11111211889)\") \n",
    "cursor.execute(\"INSERT INTO dados_cadastrais VALUES(3, 'Pedro', 'Pereira', 'Rua 8 - SP',11111211786)\")\n",
    "cursor.execute(\"INSERT INTO dados_cadastrais VALUES(4, 'Paulo', 'Ribeiro', 'Rua 9 - SP',11111211123)\") \n",
    "conn.commit()"
   ]
  },
  {
   "cell_type": "code",
   "execution_count": 8,
   "id": "00f479bd",
   "metadata": {},
   "outputs": [
    {
     "data": {
      "text/plain": [
       "[(1, 'Maria', 'Silva', 'Rua 1 - SP', '11111211313'),\n",
       " (2, 'João', 'Silva', 'Rua 2 - SP', '11111211889'),\n",
       " (3, 'Pedro', 'Pereira', 'Rua 8 - SP', '11111211786'),\n",
       " (4, 'Paulo', 'Ribeiro', 'Rua 9 - SP', '11111211123')]"
      ]
     },
     "execution_count": 8,
     "metadata": {},
     "output_type": "execute_result"
    }
   ],
   "source": [
    "cursor.execute(\"SELECT * FROM dados_cadastrais \")\n",
    "cursor.fetchall()"
   ]
  },
  {
   "cell_type": "code",
   "execution_count": 20,
   "id": "656d7e79",
   "metadata": {},
   "outputs": [],
   "source": [
    "cursor.execute(\"INSERT INTO dados_profissionais VALUES(1, 'Matemática', 'Professor', 3500.89,3)\") \n",
    "cursor.execute(\"INSERT INTO dados_profissionais VALUES(2, 'Geografia', 'Orientador', 2850.8,1)\") \n",
    "cursor.execute(\"INSERT INTO dados_profissionais VALUES(3, 'História', 'Orientador', 3200.45,1)\")\n",
    "cursor.execute(\"INSERT INTO dados_profissionais VALUES(4, 'Física', 'Professor', 1890.33,2)\") \n",
    "conn.commit()"
   ]
  },
  {
   "cell_type": "code",
   "execution_count": 21,
   "id": "44500ab1",
   "metadata": {},
   "outputs": [
    {
     "data": {
      "text/plain": [
       "[(1, 'Matemática', 'Professor', 3500.89, 3),\n",
       " (2, 'Geografia', 'Orientador', 2850.8, 1),\n",
       " (3, 'História', 'Orientador', 3200.45, 1),\n",
       " (4, 'Física', 'Professor', 1890.33, 2)]"
      ]
     },
     "execution_count": 21,
     "metadata": {},
     "output_type": "execute_result"
    }
   ],
   "source": [
    "cursor.execute(\"SELECT * FROM dados_profissionais \")\n",
    "cursor.fetchall()"
   ]
  },
  {
   "cell_type": "markdown",
   "id": "bb5b452c",
   "metadata": {},
   "source": [
    "### Exercício 2"
   ]
  },
  {
   "cell_type": "code",
   "execution_count": 28,
   "id": "06bbbbc6",
   "metadata": {},
   "outputs": [
    {
     "data": {
      "text/plain": [
       "[(1, 'Matemática', 'Professor', 3500.89, 3),\n",
       " (4, 'Física', 'Professor', 1890.33, 2),\n",
       " (2, 'Geografia', 'Orientador', 2850.8, 1),\n",
       " (3, 'História', 'Orientador', 3200.45, 1)]"
      ]
     },
     "execution_count": 28,
     "metadata": {},
     "output_type": "execute_result"
    }
   ],
   "source": [
    "cursor.execute(\"SELECT * FROM dados_profissionais ORDER BY tempo_casa DESC\")\n",
    "cursor.fetchall()"
   ]
  },
  {
   "cell_type": "markdown",
   "id": "a0ebb4f7",
   "metadata": {},
   "source": [
    "### Exercício 3"
   ]
  },
  {
   "cell_type": "code",
   "execution_count": 29,
   "id": "5163f076",
   "metadata": {},
   "outputs": [
    {
     "data": {
      "text/plain": [
       "[(4,)]"
      ]
     },
     "execution_count": 29,
     "metadata": {},
     "output_type": "execute_result"
    }
   ],
   "source": [
    "cursor.execute(\"SELECT COUNT(id) FROM dados_cadastrais\")\n",
    "cursor.fetchall()"
   ]
  },
  {
   "cell_type": "markdown",
   "id": "5a80f162",
   "metadata": {},
   "source": [
    "### Exercício 4"
   ]
  },
  {
   "cell_type": "code",
   "execution_count": 44,
   "id": "57883f62",
   "metadata": {},
   "outputs": [
    {
     "data": {
      "text/plain": [
       "[(2, 'João', 'Silva', 'Rua 2 - SP', '11111211889'),\n",
       " (1, 'Maria', 'Silva', 'Rua 1 - SP', '11111211313')]"
      ]
     },
     "execution_count": 44,
     "metadata": {},
     "output_type": "execute_result"
    }
   ],
   "source": [
    "cursor.execute(\"SELECT * FROM dados_cadastrais WHERE sobrenome == 'Silva' ORDER BY nome,sobrenome ASC\")\n",
    "cursor.fetchall()"
   ]
  },
  {
   "cell_type": "markdown",
   "id": "9ce74965",
   "metadata": {},
   "source": [
    "### Exercício 5"
   ]
  },
  {
   "cell_type": "code",
   "execution_count": 48,
   "id": "9bbee5d2",
   "metadata": {},
   "outputs": [
    {
     "data": {
      "text/plain": [
       "[(6051.25, 'Orientador'), (5391.22, 'Professor')]"
      ]
     },
     "execution_count": 48,
     "metadata": {},
     "output_type": "execute_result"
    }
   ],
   "source": [
    "cursor.execute(\"SELECT ROUND(SUM(salario),2) AS folha_pagamento_cargo,cargo FROM dados_profissionais GROUP BY cargo\")\n",
    "cursor.fetchall()"
   ]
  },
  {
   "cell_type": "code",
   "execution_count": null,
   "id": "098c2f30",
   "metadata": {},
   "outputs": [],
   "source": []
  }
 ],
 "metadata": {
  "kernelspec": {
   "display_name": "Python 3 (ipykernel)",
   "language": "python",
   "name": "python3"
  },
  "language_info": {
   "codemirror_mode": {
    "name": "ipython",
    "version": 3
   },
   "file_extension": ".py",
   "mimetype": "text/x-python",
   "name": "python",
   "nbconvert_exporter": "python",
   "pygments_lexer": "ipython3",
   "version": "3.9.7"
  }
 },
 "nbformat": 4,
 "nbformat_minor": 5
}

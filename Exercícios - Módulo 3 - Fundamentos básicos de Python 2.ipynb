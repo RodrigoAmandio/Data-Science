{
 "cells": [
  {
   "cell_type": "markdown",
   "id": "cd1dac7e",
   "metadata": {},
   "source": [
    "### Exercício 1"
   ]
  },
  {
   "cell_type": "code",
   "execution_count": 13,
   "id": "6340421c",
   "metadata": {},
   "outputs": [
    {
     "name": "stdout",
     "output_type": "stream",
     "text": [
      "[[0], [2], [4]]\n",
      "[[1], [3]]\n"
     ]
    }
   ],
   "source": [
    "lista1 =  range(0,5,1)\n",
    "lista_pares = []\n",
    "lista_impares = []\n",
    "\n",
    "for i in lista1:\n",
    "    if i%2 ==0:\n",
    "        lista_pares.append([i])\n",
    "    else:\n",
    "        lista_impares.append([i])\n",
    "\n",
    "print(lista_pares)\n",
    "print(lista_impares)"
   ]
  },
  {
   "cell_type": "markdown",
   "id": "5ea4e12c",
   "metadata": {},
   "source": [
    "### Exercício 2"
   ]
  },
  {
   "cell_type": "code",
   "execution_count": 61,
   "id": "350e7f2f",
   "metadata": {},
   "outputs": [
    {
     "name": "stdout",
     "output_type": "stream",
     "text": [
      "Digite a quantidade de sorteios que deseja que sejam feitos1\n",
      "Digite um número inteiro maior que 1 e que não esteja no formato de texto\n"
     ]
    }
   ],
   "source": [
    "import random as random\n",
    "\n",
    "qtde_sorteios = int(input(\"Digite a quantidade de sorteios que deseja que sejam feitos\"))\n",
    "\n",
    "try:\n",
    "    print(\"O número sorteado foi: \",random.randrange(1,qtde_sorteios))\n",
    "\n",
    "except ValueError:    \n",
    "    print(\"Digite um número inteiro maior que 1 e que não esteja no formato de texto\")\n",
    "    \n",
    "    "
   ]
  },
  {
   "cell_type": "markdown",
   "id": "b1844d8d",
   "metadata": {},
   "source": [
    "### Exercício 3"
   ]
  },
  {
   "cell_type": "code",
   "execution_count": 103,
   "id": "9cb57059",
   "metadata": {},
   "outputs": [],
   "source": [
    "class Cliente:\n",
    "    \n",
    "    def __init__(self,nome):\n",
    "        self.nome = nome\n",
    "        self.saldo = 0\n",
    "        \n",
    "    def depositar(self):\n",
    "        deposito = int(input(\"Digite o valor que será depositado\"))\n",
    "        print(\"Você depositou R$\", deposito)\n",
    "        self.saldo +=  deposito\n",
    "        print(\"Seu saldo agora é de R$\",self.saldo)\n",
    "        \n",
    "    def sacar(self):\n",
    "        saque = int(input(\"Digite o valor que será sacado\"))\n",
    "        self.saldo -= saque\n",
    "        \n",
    "        if self.saldo <0:\n",
    "            print(\"O valor que você está tentando sacar é superior ao saldo existente\")\n",
    "        \n",
    "        else:\n",
    "            print(\"Você sacou: \", saque)\n",
    "            print(\"Seu saldo agora é de R$\",self.saldo)\n",
    "    "
   ]
  },
  {
   "cell_type": "code",
   "execution_count": 105,
   "id": "4660e45f",
   "metadata": {},
   "outputs": [
    {
     "name": "stdout",
     "output_type": "stream",
     "text": [
      "Digite o valor que será depositado100\n",
      "Você depositou R$ 100\n",
      "Seu saldo agora é de R$ 100\n",
      "Digite o valor que será sacado20\n",
      "Você sacou:  20\n",
      "Seu saldo agora é de R$ 80\n"
     ]
    }
   ],
   "source": [
    "cliente1 = Cliente(\"Rodrigo\")\n",
    "\n",
    "cliente1.depositar()\n",
    "cliente1.sacar()\n"
   ]
  },
  {
   "cell_type": "code",
   "execution_count": null,
   "id": "f713a81b",
   "metadata": {},
   "outputs": [],
   "source": []
  }
 ],
 "metadata": {
  "kernelspec": {
   "display_name": "Python 3 (ipykernel)",
   "language": "python",
   "name": "python3"
  },
  "language_info": {
   "codemirror_mode": {
    "name": "ipython",
    "version": 3
   },
   "file_extension": ".py",
   "mimetype": "text/x-python",
   "name": "python",
   "nbconvert_exporter": "python",
   "pygments_lexer": "ipython3",
   "version": "3.9.7"
  }
 },
 "nbformat": 4,
 "nbformat_minor": 5
}
